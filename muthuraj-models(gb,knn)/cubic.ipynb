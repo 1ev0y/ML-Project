{
 "cells": [
  {
   "cell_type": "code",
   "execution_count": null,
   "metadata": {},
   "outputs": [],
   "source": [
    "import pandas as pd\n",
    "import numpy as np\n",
    "from sklearn.model_selection import train_test_split,cross_val_score\n",
    "from sklearn.preprocessing import StandardScaler\n",
    "from sklearn.ensemble import GradientBoostingRegressor\n",
    "from sklearn.neighbors import KNeighborsRegressor\n",
    "from sklearn.metrics import r2_score, mean_squared_error, mean_absolute_error, mean_absolute_percentage_error\n",
    "import matplotlib.pyplot as plt\n",
    "import seaborn as sns"
   ]
  },
  {
   "cell_type": "code",
   "execution_count": null,
   "metadata": {},
   "outputs": [],
   "source": [
    "\n",
    "cubic_df = pd.read_csv('/Users/muthuraj/Downloads/muthuraj-models(gb,knn)/Cubic.csv')\n",
    "features = cubic_df.drop(columns=['DATE','GDP'])\n",
    "target = cubic_df['GDP']\n",
    "\n",
    "scaling = StandardScaler()\n",
    "features_scaled = scaling.fit_transform(features)\n",
    "\n",
    "X_train, X_test, y_train, y_test = train_test_split(\n",
    "    features_scaled, target, test_size=0.7, random_state=42\n",
    ")\n"
   ]
  },
  {
   "cell_type": "code",
   "execution_count": null,
   "metadata": {},
   "outputs": [],
   "source": [
    "#cross validation \n",
    "cross_validation_score_gb = cross_val_score(gradient_boosting, X_train, y_train, cv=5, scoring='r2')\n",
    "cross_validation_score_knn = cross_val_score(knn, X_train, y_train, cv=5, scoring='r2')\n",
    "\n",
    "print(f\"Gradient boosting cross validation scores for R^2: {cross_validation_score_gb}\")\n",
    "print(f\"gb mean cross validation score R^2: {cross_validation_score_gb.mean():.4f}\")\n",
    "\n",
    "print(f\"knn cross validation scores for R^2: {cross_validation_score_knn}\")\n",
    "print(f\"knn mean cross validation score R^2: {cross_validation_score_knn.mean():.4f}\")"
   ]
  },
  {
   "cell_type": "code",
   "execution_count": null,
   "metadata": {},
   "outputs": [],
   "source": [
    "\n",
    "gradient_boosting = GradientBoostingRegressor(random_state=42)\n",
    "knn = KNeighborsRegressor()\n",
    "\n",
    "gradient_boosting.fit(X_train, y_train)\n",
    "knn.fit(X_train, y_train)\n",
    "\n",
    "gb_prediction = gradient_boosting.predict(X_test)\n",
    "knn_prediction = knn.predict(X_test)\n",
    "\n",
    "gb_r2 = r2_score(y_test, gb_prediction)\n",
    "knn_r2 = r2_score(y_test, knn_prediction)\n",
    "\n",
    "gb_mse = mean_squared_error(y_test, gb_prediction)\n",
    "gb_rmse = np.sqrt(gb_mse)\n",
    "gb_mae = mean_absolute_error(y_test, gb_prediction)\n",
    "\n",
    "knn_mse = mean_squared_error(y_test, knn_prediction)\n",
    "knn_rmse = np.sqrt(knn_mse)\n",
    "knn_mae = mean_absolute_error(y_test, knn_prediction)\n",
    "\n",
    "print(f\"Gradient Boosting Evaluation on Test Set:\")\n",
    "print(f\"R²: {gb_r2:.4f}\")\n",
    "print(f\"MSE: {gb_mse:.4f}\")\n",
    "print(f\"RMSE: {gb_rmse:.4f}\")\n",
    "print(f\"MAE: {gb_mae:.4f}\")\n",
    "\n",
    "print(f\"KNN Evaluation on Test Set:\")\n",
    "print(f\"R²: {knn_r2:.4f}\")\n",
    "print(f\"MSE: {knn_mse:.4f}\")\n",
    "print(f\"RMSE: {knn_rmse:.4f}\")\n",
    "print(f\"MAE: {knn_mae:.4f}\")"
   ]
  },
  {
   "cell_type": "code",
   "execution_count": null,
   "metadata": {},
   "outputs": [],
   "source": [
    "gb_mape = mean_absolute_percentage_error(y_test, gb_prediction) \n",
    "gb_accuracy = 100 * (1 - gb_mape) \n",
    "\n",
    "knn_mape = mean_absolute_percentage_error(y_test, knn_prediction)\n",
    "knn_accuracy = 100 * (1 - knn_mape) \n",
    "\n",
    "print(f\"Accuracy(MAPE): {gb_accuracy:.2f}%\")\n",
    "print(f\"Accuracy (MAPE): {knn_accuracy:.2f}%\")"
   ]
  },
  {
   "cell_type": "code",
   "execution_count": null,
   "metadata": {},
   "outputs": [],
   "source": [
    "\n",
    "def predictions_vs_actuals_gdp(y_test, predictions, model_name):\n",
    "    plt.figure(figsize=(12,10))\n",
    "    plt.scatter(y_test, predictions, alpha=0.7)\n",
    "    plt.plot([min(y_test), max(y_test)], [min(y_test), max(y_test)], color='red', linestyle='--')\n",
    "    plt.xlabel('Actual GDP')\n",
    "    plt.ylabel('Predicted GDP')\n",
    "    plt.title(f'{model_name} - Actual vs Predicted Gross Domestic Product')\n",
    "    plt.show()\n",
    "\n",
    "predictions_vs_actuals_gdp(y_test, gb_prediction, 'Gradient Boosting')\n",
    "\n",
    "predictions_vs_actuals_gdp(y_test, knn_prediction, 'K Nearest Neighbhour')\n",
    "\n",
    "def error_distribution(y_test, predictions, model_name):\n",
    "    errors = y_test - predictions\n",
    "    plt.figure(figsize=(12,10))\n",
    "    sns.histplot(errors, kde=True, bins=30, color='orange')\n",
    "    plt.xlabel('Prediction Error')\n",
    "    plt.title(f'{model_name} - Error Distribution')\n",
    "    plt.show()\n",
    "\n",
    "error_distribution(y_test, gb_prediction, 'Gradient Boosting')\n",
    "error_distribution(y_test, knn_prediction, 'K Nearest Neighbhour')\n",
    "\n",
    "def feature_importance(model, feature_names):\n",
    "    feature_importance = model.feature_importances_\n",
    "    index_sorting = np.argsort(feature_importance)\n",
    "    plt.figure(figsize=(12,10))\n",
    "    plt.barh(np.array(feature_names)[index_sorting], feature_importance[index_sorting], color='purple')\n",
    "    plt.xlabel('Feature Importance')\n",
    "    plt.title('Gradient Boosting - Importance of features(sorted asc)')\n",
    "    plt.show()\n",
    "feature_importance(gradient_boosting, features.columns)\n"
   ]
  }
 ],
 "metadata": {
  "kernelspec": {
   "display_name": "My Virtual Env",
   "language": "python",
   "name": "my_virtualenv"
  },
  "language_info": {
   "codemirror_mode": {
    "name": "ipython",
    "version": 3
   },
   "file_extension": ".py",
   "mimetype": "text/x-python",
   "name": "python",
   "nbconvert_exporter": "python",
   "pygments_lexer": "ipython3",
   "version": "3.9.6"
  },
  "orig_nbformat": 4,
  "vscode": {
   "interpreter": {
    "hash": "20bf69066c0dd38d51965b69d5e1b6e387082e3198ba56e97997ac55f4e50ad0"
   }
  }
 },
 "nbformat": 4,
 "nbformat_minor": 2
}
