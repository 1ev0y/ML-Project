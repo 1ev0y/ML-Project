{
 "cells": [
  {
   "cell_type": "code",
   "execution_count": 7,
   "metadata": {},
   "outputs": [],
   "source": [
    "import pandas as pd\n",
    "import numpy as np\n",
    "from sklearn.model_selection import train_test_split,cross_val_score\n",
    "from sklearn.preprocessing import StandardScaler\n",
    "from sklearn.ensemble import GradientBoostingRegressor\n",
    "from sklearn.neighbors import KNeighborsRegressor\n",
    "from sklearn.metrics import r2_score,mean_squared_error, mean_absolute_error, mean_absolute_percentage_error\n",
    "import matplotlib.pyplot as plt\n",
    "import seaborn as sns\n",
    "from sklearn.model_selection import GridSearchCV"
   ]
  },
  {
   "cell_type": "code",
   "execution_count": 8,
   "metadata": {},
   "outputs": [],
   "source": [
    "\n",
    "cubic_df = pd.read_csv('/Users/muthuraj/Documents/ml-final-model/Early_6/Final.csv')\n",
    "features = cubic_df.drop(columns=['DATE','GDP'])\n",
    "target = cubic_df['GDP']\n",
    "\n",
    "scaling = StandardScaler()\n",
    "features_scaled = scaling.fit_transform(features)\n",
    "\n",
    "X_train, X_test, y_train, y_test = train_test_split(\n",
    "    features_scaled, target, test_size=0.3, random_state=42\n",
    ")\n"
   ]
  },
  {
   "cell_type": "code",
   "execution_count": 9,
   "metadata": {},
   "outputs": [
    {
     "name": "stdout",
     "output_type": "stream",
     "text": [
      "Gradient Boosting Evaluation on Test Set:\n",
      "R²: 1.0000\n",
      "MSE: 2323.2413\n",
      "RMSE: 48.2000\n",
      "MAE: 34.6279\n",
      "KNN Evaluation on Test Set:\n",
      "R²: 1.0000\n",
      "MSE: 170.7141\n",
      "RMSE: 13.0658\n",
      "MAE: 4.1680\n"
     ]
    }
   ],
   "source": [
    "\n",
    "gradient_boosting = GradientBoostingRegressor(random_state=42)\n",
    "knn = KNeighborsRegressor()\n",
    "\n",
    "gradient_boosting.fit(X_train, y_train)\n",
    "knn.fit(X_train, y_train)\n",
    "\n",
    "gb_prediction = gradient_boosting.predict(X_test)\n",
    "knn_prediction = knn.predict(X_test)\n",
    "\n",
    "gb_r2 = r2_score(y_test, gb_prediction)\n",
    "knn_r2 = r2_score(y_test, knn_prediction)\n",
    "\n",
    "gb_mse = mean_squared_error(y_test, gb_prediction)\n",
    "gb_rmse = np.sqrt(gb_mse)\n",
    "gb_mae = mean_absolute_error(y_test, gb_prediction)\n",
    "\n",
    "knn_mse = mean_squared_error(y_test, knn_prediction)\n",
    "knn_rmse = np.sqrt(knn_mse)\n",
    "knn_mae = mean_absolute_error(y_test, knn_prediction)\n",
    "\n",
    "print(f\"Gradient Boosting Evaluation on Test Set:\")\n",
    "print(f\"R²: {gb_r2:.4f}\")\n",
    "print(f\"MSE: {gb_mse:.4f}\")\n",
    "print(f\"RMSE: {gb_rmse:.4f}\")\n",
    "print(f\"MAE: {gb_mae:.4f}\")\n",
    "\n",
    "print(f\"KNN Evaluation on Test Set:\")\n",
    "print(f\"R²: {knn_r2:.4f}\")\n",
    "print(f\"MSE: {knn_mse:.4f}\")\n",
    "print(f\"RMSE: {knn_rmse:.4f}\")\n",
    "print(f\"MAE: {knn_mae:.4f}\")"
   ]
  },
  {
   "cell_type": "code",
   "execution_count": 10,
   "metadata": {},
   "outputs": [
    {
     "name": "stdout",
     "output_type": "stream",
     "text": [
      "Gradient boosting cross validation scores for R^2: [0.99995822 0.99995466 0.99995638 0.99995935 0.99995918]\n",
      "gb mean cross validation score R^2: 1.0000\n",
      "knn cross validation scores for R^2: [0.99999581 0.9999967  0.99999384 0.99999507 0.99999613]\n",
      "knn mean cross validation score R^2: 1.0000\n"
     ]
    }
   ],
   "source": [
    "#cross validation \n",
    "cross_validation_score_gb = cross_val_score(gradient_boosting, X_train, y_train, cv=5, scoring='r2')\n",
    "cross_validation_score_knn = cross_val_score(knn, X_train, y_train, cv=5, scoring='r2')\n",
    "\n",
    "print(f\"Gradient boosting cross validation scores for R^2: {cross_validation_score_gb}\")\n",
    "print(f\"gb mean cross validation score R^2: {cross_validation_score_gb.mean():.4f}\")\n",
    "\n",
    "print(f\"knn cross validation scores for R^2: {cross_validation_score_knn}\")\n",
    "print(f\"knn mean cross validation score R^2: {cross_validation_score_knn.mean():.4f}\")"
   ]
  },
  {
   "cell_type": "code",
   "execution_count": 11,
   "metadata": {},
   "outputs": [
    {
     "name": "stdout",
     "output_type": "stream",
     "text": [
      "Best parameters for Gradient Boosting: {'learning_rate': 0.05, 'max_depth': 7, 'n_estimators': 500}\n",
      "Best Negative MSE for Gradient Boosting: -28.3069\n",
      "Best parameters for KNN: {'n_neighbors': 3, 'p': 1, 'weights': 'distance'}\n",
      "Best Negative MSE for KNN: -9.5873\n",
      "\n",
      "Best Gradient Boosting Evaluation on Test Set:\n",
      "MSE: 14.7749\n",
      "RMSE: 3.8438\n",
      "MAE: 2.1193\n",
      "\n",
      "Best KNN Evaluation on Test Set:\n",
      "MSE: 7.4698\n",
      "RMSE: 2.7331\n",
      "MAE: 1.2255\n"
     ]
    }
   ],
   "source": [
    "from sklearn.model_selection import GridSearchCV\n",
    "\n",
    "\n",
    "param_grid_gb = {\n",
    "    'n_estimators': [300, 400, 500], \n",
    "    'learning_rate': [0.01, 0.05, 0.1], \n",
    "    'max_depth': [5, 7]  \n",
    "}\n",
    "\n",
    "param_grid_knn = {\n",
    "    'n_neighbors': [3, 5, 7],  \n",
    "    'weights': ['uniform', 'distance'],  \n",
    "    'p': [1, 2, 3]  \n",
    "}\n",
    "\n",
    "\n",
    "grid_search_gb = GridSearchCV(estimator=GradientBoostingRegressor(random_state=42),\n",
    "                              param_grid=param_grid_gb,\n",
    "                              cv=5,  \n",
    "                              scoring='neg_mean_squared_error',\n",
    "                              n_jobs=-1)  \n",
    "\n",
    "\n",
    "grid_search_knn = GridSearchCV(estimator=KNeighborsRegressor(),\n",
    "                               param_grid=param_grid_knn,\n",
    "                               cv=5,  \n",
    "                               scoring='neg_mean_squared_error',\n",
    "                               n_jobs=-1)\n",
    "\n",
    "\n",
    "grid_search_gb.fit(X_train, y_train)\n",
    "print(f\"Best parameters for Gradient Boosting: {grid_search_gb.best_params_}\")\n",
    "print(f\"Best Negative MSE for Gradient Boosting: {grid_search_gb.best_score_:.4f}\")\n",
    "\n",
    "\n",
    "grid_search_knn.fit(X_train, y_train)\n",
    "print(f\"Best parameters for KNN: {grid_search_knn.best_params_}\")\n",
    "print(f\"Best Negative MSE for KNN: {grid_search_knn.best_score_:.4f}\")\n",
    "\n",
    "\n",
    "best_gb = grid_search_gb.best_estimator_\n",
    "best_knn = grid_search_knn.best_estimator_\n",
    "\n",
    "\n",
    "gb_best_pred = best_gb.predict(X_test)\n",
    "knn_best_pred = best_knn.predict(X_test)\n",
    "\n",
    "\n",
    "\n",
    "gb_mse_best = mean_squared_error(y_test, gb_best_pred)\n",
    "gb_rmse_best = np.sqrt(gb_mse_best)\n",
    "gb_mae_best = mean_absolute_error(y_test, gb_best_pred)\n",
    "\n",
    "print(f\"\\nBest Gradient Boosting Evaluation on Test Set:\")\n",
    "print(f\"MSE: {gb_mse_best:.4f}\")\n",
    "print(f\"RMSE: {gb_rmse_best:.4f}\")\n",
    "print(f\"MAE: {gb_mae_best:.4f}\")\n",
    "\n",
    "\n",
    "knn_mse_best = mean_squared_error(y_test, knn_best_pred)\n",
    "knn_rmse_best = np.sqrt(knn_mse_best)\n",
    "knn_mae_best = mean_absolute_error(y_test, knn_best_pred)\n",
    "\n",
    "print(f\"\\nBest KNN Evaluation on Test Set:\")\n",
    "print(f\"MSE: {knn_mse_best:.4f}\")\n",
    "print(f\"RMSE: {knn_rmse_best:.4f}\")\n",
    "print(f\"MAE: {knn_mae_best:.4f}\")\n"
   ]
  },
  {
   "cell_type": "code",
   "execution_count": 12,
   "metadata": {},
   "outputs": [
    {
     "name": "stdout",
     "output_type": "stream",
     "text": [
      "\n",
      "Best Gradient Boosting R² on Test Set: 1.0000\n",
      "Best KNN R² on Test Set: 1.0000\n"
     ]
    }
   ],
   "source": [
    "from sklearn.metrics import r2_score\n",
    "\n",
    "gb_r2_best = r2_score(y_test, gb_best_pred)\n",
    "\n",
    "knn_r2_best = r2_score(y_test, knn_best_pred)\n",
    "\n",
    "print(f\"\\nBest Gradient Boosting R² on Test Set: {gb_r2_best:.4f}\")\n",
    "print(f\"Best KNN R² on Test Set: {knn_r2_best:.4f}\")\n"
   ]
  }
 ],
 "metadata": {
  "kernelspec": {
   "display_name": "Python 3",
   "language": "python",
   "name": "python3"
  },
  "language_info": {
   "codemirror_mode": {
    "name": "ipython",
    "version": 3
   },
   "file_extension": ".py",
   "mimetype": "text/x-python",
   "name": "python",
   "nbconvert_exporter": "python",
   "pygments_lexer": "ipython3",
   "version": "3.9.6"
  },
  "orig_nbformat": 4
 },
 "nbformat": 4,
 "nbformat_minor": 2
}
