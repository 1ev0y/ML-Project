{
 "cells": [
  {
   "cell_type": "code",
   "execution_count": 1,
   "metadata": {},
   "outputs": [],
   "source": [
    "import pandas as pd\n",
    "import numpy as np\n",
    "from scipy.interpolate import CubicSpline\n",
    "import matplotlib.pyplot as plt"
   ]
  },
  {
   "cell_type": "code",
   "execution_count": 8,
   "metadata": {},
   "outputs": [],
   "source": [
    "data=pd.read_csv(r'C:\\Users\\Bharg\\Desktop\\uni\\Sem 5\\Mine\\ML\\Project\\Code\\Datasets\\Monthly\\Unemployment Rate.csv')\n",
    "data['DATE']=pd.to_datetime(data['DATE'])\n",
    "\n",
    "months=data['DATE']\n",
    "values=data['UNRATE']\n",
    "\n",
    "days=pd.date_range(start=months.min(0),end=months.max(0),freq='D')\n",
    "\n",
    "month_ordinals=months.map(pd.Timestamp.toordinal)\n",
    "days_ordinals=days.map(pd.Timestamp.toordinal)\n",
    "\n",
    "linear_interp=np.interp(days_ordinals,month_ordinals,values)\n",
    "daily_data_linear=pd.DataFrame({'DATE':days,'UNRATE':linear_interp})\n",
    "daily_data_linear.to_csv(r'C:\\Users\\Bharg\\Desktop\\uni\\Sem 5\\Mine\\ML\\Project\\Code\\Datasets\\Daily After Linear Interpolation\\Unemployment Rate.csv',index=False)"
   ]
  }
 ],
 "metadata": {
  "kernelspec": {
   "display_name": "Python 3",
   "language": "python",
   "name": "python3"
  },
  "language_info": {
   "codemirror_mode": {
    "name": "ipython",
    "version": 3
   },
   "file_extension": ".py",
   "mimetype": "text/x-python",
   "name": "python",
   "nbconvert_exporter": "python",
   "pygments_lexer": "ipython3",
   "version": "3.12.6"
  }
 },
 "nbformat": 4,
 "nbformat_minor": 2
}
