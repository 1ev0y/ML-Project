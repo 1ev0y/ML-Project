{
 "cells": [
  {
   "cell_type": "code",
   "execution_count": 6,
   "metadata": {},
   "outputs": [
    {
     "name": "stdout",
     "output_type": "stream",
     "text": [
      "                     GDP\n",
      "DATE                    \n",
      "1947-01-01    243.164000\n",
      "1947-01-02    243.195156\n",
      "1947-01-03    243.226311\n",
      "1947-01-04    243.257467\n",
      "1947-01-05    243.288622\n",
      "...                  ...\n",
      "2024-03-28  28635.494670\n",
      "2024-03-29  28639.705253\n",
      "2024-03-30  28643.915835\n",
      "2024-03-31  28648.126418\n",
      "2024-04-01  28652.337000\n",
      "\n",
      "[28216 rows x 1 columns]\n"
     ]
    }
   ],
   "source": [
    "import pandas as pd\n",
    "\n",
    "# Load the CSV file into a pandas DataFrame\n",
    "df = pd.read_csv(r'C:\\Users\\Bharg\\Desktop\\uni\\Sem 5\\Mine\\ML\\Project\\Code\\Datasets\\Quarterly\\GDP.csv')\n",
    "\n",
    "# Convert the Date column to datetime format\n",
    "df['DATE'] = pd.to_datetime(df['DATE'])\n",
    "\n",
    "# Set the Date column as the index\n",
    "df.set_index('DATE', inplace=True)\n",
    "\n",
    "# Resample the data to daily frequency and interpolate linearly\n",
    "df_daily = df.resample('D').interpolate(method='linear')\n",
    "\n",
    "# Print or save the interpolated daily data\n",
    "print(df_daily)\n",
    "\n",
    "# Optionally save the interpolated data back to a CSV\n",
    "df_daily.to_csv(r'C:\\Users\\Bharg\\Desktop\\uni\\Sem 5\\Mine\\ML\\Project\\Code\\Datasets\\Daily After Linear Interpolation\\GDP.csv')\n"
   ]
  }
 ],
 "metadata": {
  "kernelspec": {
   "display_name": "Python 3",
   "language": "python",
   "name": "python3"
  },
  "language_info": {
   "codemirror_mode": {
    "name": "ipython",
    "version": 3
   },
   "file_extension": ".py",
   "mimetype": "text/x-python",
   "name": "python",
   "nbconvert_exporter": "python",
   "pygments_lexer": "ipython3",
   "version": "3.12.6"
  }
 },
 "nbformat": 4,
 "nbformat_minor": 2
}
