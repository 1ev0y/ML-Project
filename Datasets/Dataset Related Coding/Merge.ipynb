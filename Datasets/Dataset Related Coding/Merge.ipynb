{
 "cells": [
  {
   "cell_type": "code",
   "execution_count": 2,
   "metadata": {},
   "outputs": [
    {
     "name": "stdout",
     "output_type": "stream",
     "text": [
      "             DATE   DFF       USTRADE    CPIAUCSL  CPALTT01USM657N  \\\n",
      "0      1966-01-01  4.63   6417.900000   31.880000         0.000000   \n",
      "1      1966-01-02  4.63   6418.200000   31.886452         0.020288   \n",
      "2      1966-01-03  4.63   6418.500000   31.892903         0.040576   \n",
      "3      1966-01-04  4.63   6418.800000   31.899355         0.060864   \n",
      "4      1966-01-05  4.50   6419.100000   31.905806         0.081152   \n",
      "...           ...   ...           ...         ...              ...   \n",
      "21240  2024-02-26  5.33  15659.337931  312.067793         0.642631   \n",
      "21241  2024-02-27  5.33  15660.003448  312.108345         0.643577   \n",
      "21242  2024-02-28  5.33  15660.668966  312.148897         0.644524   \n",
      "21243  2024-02-29  5.33  15661.334483  312.189448         0.645470   \n",
      "21244  2024-03-01  5.33  15662.000000  312.230000         0.646417   \n",
      "\n",
      "            GFDEBTN           GDP      INDPRO          M2SL         POPTHM  \\\n",
      "0      3.209990e+05    795.734000   33.170900    462.000000  195614.000000   \n",
      "1      3.209445e+05    795.836744   33.177835    462.083871  195618.709677   \n",
      "2      3.208901e+05    795.939489   33.184771    462.167742  195623.419355   \n",
      "3      3.208356e+05    796.042233   33.191706    462.251613  195628.129032   \n",
      "4      3.207811e+05    796.144978   33.198642    462.335484  195632.838710   \n",
      "...             ...           ...         ...           ...            ...   \n",
      "21240  3.473736e+07  28504.966615  102.547303  20823.124138  336406.862069   \n",
      "21241  3.474006e+07  28509.177198  102.540128  20826.293103  336410.896552   \n",
      "21242  3.474275e+07  28513.387780  102.532952  20829.462069  336414.931034   \n",
      "21243  3.474544e+07  28517.598363  102.525776  20832.631034  336418.965517   \n",
      "21244  3.474814e+07  28521.808945  102.518600  20835.800000  336423.000000   \n",
      "\n",
      "         UNRATE  \n",
      "0      4.000000  \n",
      "1      3.993548  \n",
      "2      3.987097  \n",
      "3      3.980645  \n",
      "4      3.974194  \n",
      "...         ...  \n",
      "21240  3.813793  \n",
      "21241  3.810345  \n",
      "21242  3.806897  \n",
      "21243  3.803448  \n",
      "21244  3.800000  \n",
      "\n",
      "[21245 rows x 11 columns]\n"
     ]
    }
   ],
   "source": [
    "import pandas as pd\n",
    "\n",
    "# List of CSV files to merge\n",
    "csv_files = [r'C:\\Users\\Bharg\\Desktop\\uni\\Sem 5\\Mine\\ML\\Project\\Code\\Datasets\\Daily\\Federal funds effective rate.csv']\n",
    "csv_files.append(r'C:\\Users\\Bharg\\Desktop\\uni\\Sem 5\\Mine\\ML\\Project\\Code\\Datasets\\Daily After Linear Interpolation\\All Employees Retail Trade.csv')\n",
    "csv_files.append(r'C:\\Users\\Bharg\\Desktop\\uni\\Sem 5\\Mine\\ML\\Project\\Code\\Datasets\\Daily After Linear Interpolation\\CPI Urban.csv')\n",
    "csv_files.append(r'C:\\Users\\Bharg\\Desktop\\uni\\Sem 5\\Mine\\ML\\Project\\Code\\Datasets\\Daily After Linear Interpolation\\CPI.csv')\n",
    "csv_files.append(r'C:\\Users\\Bharg\\Desktop\\uni\\Sem 5\\Mine\\ML\\Project\\Code\\Datasets\\Daily After Linear Interpolation\\Federal Debt.csv')\n",
    "csv_files.append(r'C:\\Users\\Bharg\\Desktop\\uni\\Sem 5\\Mine\\ML\\Project\\Code\\Datasets\\Daily After Linear Interpolation\\GDP.csv')\n",
    "csv_files.append(r'C:\\Users\\Bharg\\Desktop\\uni\\Sem 5\\Mine\\ML\\Project\\Code\\Datasets\\Daily After Linear Interpolation\\Industrial Production.csv')\n",
    "csv_files.append(r'C:\\Users\\Bharg\\Desktop\\uni\\Sem 5\\Mine\\ML\\Project\\Code\\Datasets\\Daily After Linear Interpolation\\Money Supply.csv')\n",
    "csv_files.append(r'C:\\Users\\Bharg\\Desktop\\uni\\Sem 5\\Mine\\ML\\Project\\Code\\Datasets\\Daily After Linear Interpolation\\Population.csv')\n",
    "csv_files.append(r'C:\\Users\\Bharg\\Desktop\\uni\\Sem 5\\Mine\\ML\\Project\\Code\\Datasets\\Daily After Linear Interpolation\\Unemployment Rate.csv')\n",
    "\n",
    "\n",
    "\n",
    "# Add more file paths as needed\n",
    "\n",
    "# Initialize the first DataFrame\n",
    "df_merged = pd.read_csv(csv_files[0])\n",
    "\n",
    "# Loop through the remaining CSV files and merge them based on a common column (e.g., 'ID')\n",
    "for file in csv_files[1:]:\n",
    "    df_to_merge = pd.read_csv(file)\n",
    "    # Merge on the 'ID' column (or any other common column)\n",
    "    df_merged = pd.merge(df_merged, df_to_merge, on='DATE', how='inner')  # You can use 'left', 'right', or 'outer' joins depending on your requirement\n",
    "\n",
    "# Print the merged DataFrame\n",
    "print(df_merged)\n",
    "\n",
    "# Optionally save the merged DataFrame to a new CSV file\n",
    "df_merged.to_csv('Linear.csv', index=False)\n"
   ]
  }
 ],
 "metadata": {
  "kernelspec": {
   "display_name": "Python 3",
   "language": "python",
   "name": "python3"
  },
  "language_info": {
   "codemirror_mode": {
    "name": "ipython",
    "version": 3
   },
   "file_extension": ".py",
   "mimetype": "text/x-python",
   "name": "python",
   "nbconvert_exporter": "python",
   "pygments_lexer": "ipython3",
   "version": "3.12.6"
  }
 },
 "nbformat": 4,
 "nbformat_minor": 2
}
