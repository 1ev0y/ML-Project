{
 "cells": [
  {
   "cell_type": "code",
   "execution_count": 2,
   "metadata": {},
   "outputs": [
    {
     "name": "stdout",
     "output_type": "stream",
     "text": [
      "                     GDP\n",
      "DATE                    \n",
      "1947-01-01    243.164000\n",
      "1947-01-02    243.230576\n",
      "1947-01-03    243.295920\n",
      "1947-01-04    243.360047\n",
      "1947-01-05    243.422973\n",
      "...                  ...\n",
      "2024-03-28  28633.632767\n",
      "2024-03-29  28638.291471\n",
      "2024-03-30  28642.961725\n",
      "2024-03-31  28647.643558\n",
      "2024-04-01  28652.337000\n",
      "\n",
      "[28216 rows x 1 columns]\n"
     ]
    }
   ],
   "source": [
    "import pandas as pd\n",
    "import numpy as np\n",
    "from scipy.interpolate import CubicSpline\n",
    "\n",
    "df = pd.read_csv(r'C:\\Users\\Bharg\\Desktop\\uni\\Sem 5\\Mine\\ML\\Project\\Code\\Datasets\\Quarterly\\GDP.csv')\n",
    "\n",
    "df['DATE'] = pd.to_datetime(df['DATE'])\n",
    "\n",
    "df.set_index('DATE', inplace=True)\n",
    "\n",
    "date_range = pd.date_range(start=df.index.min(), end=df.index.max(), freq='D')\n",
    "\n",
    "days_from_start = (df.index - df.index[0]).days\n",
    "\n",
    "cs = CubicSpline(days_from_start, df['GDP'])\n",
    "\n",
    "days_from_start_daily = (date_range - df.index[0]).days\n",
    "interpolated_values = cs(days_from_start_daily)\n",
    "\n",
    "df_daily = pd.DataFrame({'DATE': date_range, 'GDP': interpolated_values})\n",
    "df_daily.set_index('DATE', inplace=True)\n",
    "\n",
    "print(df_daily)\n",
    "\n",
    "df_daily.to_csv(r'C:\\Users\\Bharg\\Desktop\\uni\\Sem 5\\Mine\\ML\\Project\\Code\\Datasets\\Daily After Cubic Interpolation\\GDP.csv')\n"
   ]
  }
 ],
 "metadata": {
  "kernelspec": {
   "display_name": "Python 3",
   "language": "python",
   "name": "python3"
  },
  "language_info": {
   "codemirror_mode": {
    "name": "ipython",
    "version": 3
   },
   "file_extension": ".py",
   "mimetype": "text/x-python",
   "name": "python",
   "nbconvert_exporter": "python",
   "pygments_lexer": "ipython3",
   "version": "3.12.6"
  }
 },
 "nbformat": 4,
 "nbformat_minor": 2
}
