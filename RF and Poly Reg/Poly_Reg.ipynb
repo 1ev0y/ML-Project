{
 "cells": [
  {
   "cell_type": "code",
   "execution_count": 16,
   "metadata": {},
   "outputs": [
    {
     "data": {
      "text/html": [
       "<div>\n",
       "<style scoped>\n",
       "    .dataframe tbody tr th:only-of-type {\n",
       "        vertical-align: middle;\n",
       "    }\n",
       "\n",
       "    .dataframe tbody tr th {\n",
       "        vertical-align: top;\n",
       "    }\n",
       "\n",
       "    .dataframe thead th {\n",
       "        text-align: right;\n",
       "    }\n",
       "</style>\n",
       "<table border=\"1\" class=\"dataframe\">\n",
       "  <thead>\n",
       "    <tr style=\"text-align: right;\">\n",
       "      <th></th>\n",
       "      <th>DFF</th>\n",
       "      <th>USTRADE</th>\n",
       "      <th>CPIAUCSL</th>\n",
       "      <th>CPALTT01USM657N</th>\n",
       "      <th>GFDEBTN</th>\n",
       "      <th>GDP</th>\n",
       "      <th>INDPRO</th>\n",
       "      <th>M2SL</th>\n",
       "      <th>POPTHM</th>\n",
       "      <th>UNRATE</th>\n",
       "    </tr>\n",
       "  </thead>\n",
       "  <tbody>\n",
       "    <tr>\n",
       "      <th>0</th>\n",
       "      <td>4.63</td>\n",
       "      <td>6417.9</td>\n",
       "      <td>31.880000</td>\n",
       "      <td>0.000000</td>\n",
       "      <td>320999.000000</td>\n",
       "      <td>795.734000</td>\n",
       "      <td>33.170900</td>\n",
       "      <td>462.000000</td>\n",
       "      <td>195614.000000</td>\n",
       "      <td>4.000000</td>\n",
       "    </tr>\n",
       "    <tr>\n",
       "      <th>1</th>\n",
       "      <td>4.63</td>\n",
       "      <td>6418.2</td>\n",
       "      <td>31.886452</td>\n",
       "      <td>0.020288</td>\n",
       "      <td>320944.533333</td>\n",
       "      <td>795.836744</td>\n",
       "      <td>33.177835</td>\n",
       "      <td>462.083871</td>\n",
       "      <td>195618.709677</td>\n",
       "      <td>3.993548</td>\n",
       "    </tr>\n",
       "    <tr>\n",
       "      <th>2</th>\n",
       "      <td>4.63</td>\n",
       "      <td>6418.5</td>\n",
       "      <td>31.892903</td>\n",
       "      <td>0.040576</td>\n",
       "      <td>320890.066667</td>\n",
       "      <td>795.939489</td>\n",
       "      <td>33.184771</td>\n",
       "      <td>462.167742</td>\n",
       "      <td>195623.419355</td>\n",
       "      <td>3.987097</td>\n",
       "    </tr>\n",
       "    <tr>\n",
       "      <th>3</th>\n",
       "      <td>4.63</td>\n",
       "      <td>6418.8</td>\n",
       "      <td>31.899355</td>\n",
       "      <td>0.060864</td>\n",
       "      <td>320835.600000</td>\n",
       "      <td>796.042233</td>\n",
       "      <td>33.191706</td>\n",
       "      <td>462.251613</td>\n",
       "      <td>195628.129032</td>\n",
       "      <td>3.980645</td>\n",
       "    </tr>\n",
       "    <tr>\n",
       "      <th>4</th>\n",
       "      <td>4.50</td>\n",
       "      <td>6419.1</td>\n",
       "      <td>31.905806</td>\n",
       "      <td>0.081152</td>\n",
       "      <td>320781.133333</td>\n",
       "      <td>796.144978</td>\n",
       "      <td>33.198642</td>\n",
       "      <td>462.335484</td>\n",
       "      <td>195632.838710</td>\n",
       "      <td>3.974194</td>\n",
       "    </tr>\n",
       "  </tbody>\n",
       "</table>\n",
       "</div>"
      ],
      "text/plain": [
       "    DFF  USTRADE   CPIAUCSL  CPALTT01USM657N        GFDEBTN         GDP  \\\n",
       "0  4.63   6417.9  31.880000         0.000000  320999.000000  795.734000   \n",
       "1  4.63   6418.2  31.886452         0.020288  320944.533333  795.836744   \n",
       "2  4.63   6418.5  31.892903         0.040576  320890.066667  795.939489   \n",
       "3  4.63   6418.8  31.899355         0.060864  320835.600000  796.042233   \n",
       "4  4.50   6419.1  31.905806         0.081152  320781.133333  796.144978   \n",
       "\n",
       "      INDPRO        M2SL         POPTHM    UNRATE  \n",
       "0  33.170900  462.000000  195614.000000  4.000000  \n",
       "1  33.177835  462.083871  195618.709677  3.993548  \n",
       "2  33.184771  462.167742  195623.419355  3.987097  \n",
       "3  33.191706  462.251613  195628.129032  3.980645  \n",
       "4  33.198642  462.335484  195632.838710  3.974194  "
      ]
     },
     "execution_count": 16,
     "metadata": {},
     "output_type": "execute_result"
    }
   ],
   "source": [
    "import Helper\n",
    "\n",
    "data_set = Helper.load_data()\n",
    "data_set = Helper.proc_data(data_set, del_columns = ['DATE'])\n",
    "data_set.head()"
   ]
  },
  {
   "cell_type": "code",
   "execution_count": 17,
   "metadata": {},
   "outputs": [],
   "source": [
    "x_train, x_test, y_train, y_test = Helper.split_data(data_set, 'GDP')"
   ]
  },
  {
   "cell_type": "code",
   "execution_count": 3,
   "metadata": {},
   "outputs": [
    {
     "name": "stdout",
     "output_type": "stream",
     "text": [
      "Fitting 5 folds for each of 20 candidates, totalling 100 fits\n",
      "[CV 1/5] END linear_regression__fit_intercept=True, poly_features__degree=2, poly_features__interaction_only=True;, score=-4654.823 total time=   0.0s\n",
      "[CV 2/5] END linear_regression__fit_intercept=True, poly_features__degree=2, poly_features__interaction_only=True;, score=-4313.475 total time=   0.0s\n",
      "[CV 3/5] END linear_regression__fit_intercept=True, poly_features__degree=2, poly_features__interaction_only=True;, score=-4660.234 total time=   0.0s\n",
      "[CV 4/5] END linear_regression__fit_intercept=True, poly_features__degree=2, poly_features__interaction_only=True;, score=-4335.519 total time=   0.0s\n",
      "[CV 5/5] END linear_regression__fit_intercept=True, poly_features__degree=2, poly_features__interaction_only=True;, score=-4204.000 total time=   0.0s\n",
      "[CV 1/5] END linear_regression__fit_intercept=True, poly_features__degree=2, poly_features__interaction_only=False;, score=-5218.241 total time=   0.0s\n",
      "[CV 2/5] END linear_regression__fit_intercept=True, poly_features__degree=2, poly_features__interaction_only=False;, score=-4390.241 total time=   0.0s\n",
      "[CV 3/5] END linear_regression__fit_intercept=True, poly_features__degree=2, poly_features__interaction_only=False;, score=-4593.496 total time=   0.0s\n",
      "[CV 4/5] END linear_regression__fit_intercept=True, poly_features__degree=2, poly_features__interaction_only=False;, score=-4570.461 total time=   0.0s\n",
      "[CV 5/5] END linear_regression__fit_intercept=True, poly_features__degree=2, poly_features__interaction_only=False;, score=-4186.855 total time=   0.0s\n",
      "[CV 1/5] END linear_regression__fit_intercept=True, poly_features__degree=3, poly_features__interaction_only=True;, score=-1970.913 total time=   0.0s\n",
      "[CV 2/5] END linear_regression__fit_intercept=True, poly_features__degree=3, poly_features__interaction_only=True;, score=-1821.803 total time=   0.0s\n",
      "[CV 3/5] END linear_regression__fit_intercept=True, poly_features__degree=3, poly_features__interaction_only=True;, score=-1911.957 total time=   0.0s\n",
      "[CV 4/5] END linear_regression__fit_intercept=True, poly_features__degree=3, poly_features__interaction_only=True;, score=-1943.462 total time=   0.0s\n",
      "[CV 5/5] END linear_regression__fit_intercept=True, poly_features__degree=3, poly_features__interaction_only=True;, score=-1888.099 total time=   0.0s\n",
      "[CV 1/5] END linear_regression__fit_intercept=True, poly_features__degree=3, poly_features__interaction_only=False;, score=-2073.447 total time=   0.0s\n",
      "[CV 2/5] END linear_regression__fit_intercept=True, poly_features__degree=3, poly_features__interaction_only=False;, score=-3386.151 total time=   0.0s\n",
      "[CV 3/5] END linear_regression__fit_intercept=True, poly_features__degree=3, poly_features__interaction_only=False;, score=-3601.651 total time=   0.0s\n",
      "[CV 4/5] END linear_regression__fit_intercept=True, poly_features__degree=3, poly_features__interaction_only=False;, score=-3858.611 total time=   0.0s\n",
      "[CV 5/5] END linear_regression__fit_intercept=True, poly_features__degree=3, poly_features__interaction_only=False;, score=-4036.735 total time=   0.0s\n",
      "[CV 1/5] END linear_regression__fit_intercept=True, poly_features__degree=4, poly_features__interaction_only=True;, score=-1348.065 total time=   0.1s\n",
      "[CV 2/5] END linear_regression__fit_intercept=True, poly_features__degree=4, poly_features__interaction_only=True;, score=-1652.529 total time=   0.1s\n",
      "[CV 3/5] END linear_regression__fit_intercept=True, poly_features__degree=4, poly_features__interaction_only=True;, score=-1596.672 total time=   0.1s\n",
      "[CV 4/5] END linear_regression__fit_intercept=True, poly_features__degree=4, poly_features__interaction_only=True;, score=-1655.690 total time=   0.1s\n",
      "[CV 5/5] END linear_regression__fit_intercept=True, poly_features__degree=4, poly_features__interaction_only=True;, score=-1515.908 total time=   0.1s\n",
      "[CV 1/5] END linear_regression__fit_intercept=True, poly_features__degree=4, poly_features__interaction_only=False;, score=-4517.689 total time=   0.5s\n",
      "[CV 2/5] END linear_regression__fit_intercept=True, poly_features__degree=4, poly_features__interaction_only=False;, score=-11226.185 total time=   0.4s\n",
      "[CV 3/5] END linear_regression__fit_intercept=True, poly_features__degree=4, poly_features__interaction_only=False;, score=-10813.571 total time=   0.4s\n",
      "[CV 4/5] END linear_regression__fit_intercept=True, poly_features__degree=4, poly_features__interaction_only=False;, score=-3543.849 total time=   0.4s\n",
      "[CV 5/5] END linear_regression__fit_intercept=True, poly_features__degree=4, poly_features__interaction_only=False;, score=-2950.986 total time=   0.3s\n",
      "[CV 1/5] END linear_regression__fit_intercept=True, poly_features__degree=6, poly_features__interaction_only=True;, score=-1016.150 total time=   0.2s\n",
      "[CV 2/5] END linear_regression__fit_intercept=True, poly_features__degree=6, poly_features__interaction_only=True;, score=-2901.850 total time=   0.2s\n",
      "[CV 3/5] END linear_regression__fit_intercept=True, poly_features__degree=6, poly_features__interaction_only=True;, score=-4018.879 total time=   0.2s\n",
      "[CV 4/5] END linear_regression__fit_intercept=True, poly_features__degree=6, poly_features__interaction_only=True;, score=-2882.358 total time=   0.2s\n",
      "[CV 5/5] END linear_regression__fit_intercept=True, poly_features__degree=6, poly_features__interaction_only=True;, score=-3391.998 total time=   0.2s\n",
      "[CV 1/5] END linear_regression__fit_intercept=True, poly_features__degree=6, poly_features__interaction_only=False;, score=-123902.834 total time=  19.7s\n",
      "[CV 2/5] END linear_regression__fit_intercept=True, poly_features__degree=6, poly_features__interaction_only=False;, score=-79168.448 total time=  19.1s\n",
      "[CV 3/5] END linear_regression__fit_intercept=True, poly_features__degree=6, poly_features__interaction_only=False;, score=-479064.787 total time=  19.0s\n",
      "[CV 4/5] END linear_regression__fit_intercept=True, poly_features__degree=6, poly_features__interaction_only=False;, score=-68440.989 total time=  20.0s\n",
      "[CV 5/5] END linear_regression__fit_intercept=True, poly_features__degree=6, poly_features__interaction_only=False;, score=-27610.978 total time=  22.7s\n",
      "[CV 1/5] END linear_regression__fit_intercept=True, poly_features__degree=10, poly_features__interaction_only=True;, score=-1417.292 total time=   0.3s\n",
      "[CV 2/5] END linear_regression__fit_intercept=True, poly_features__degree=10, poly_features__interaction_only=True;, score=-1480.150 total time=   0.3s\n",
      "[CV 3/5] END linear_regression__fit_intercept=True, poly_features__degree=10, poly_features__interaction_only=True;, score=-2116.071 total time=   0.3s\n",
      "[CV 4/5] END linear_regression__fit_intercept=True, poly_features__degree=10, poly_features__interaction_only=True;, score=-1427.703 total time=   0.3s\n",
      "[CV 5/5] END linear_regression__fit_intercept=True, poly_features__degree=10, poly_features__interaction_only=True;, score=-1268.028 total time=   0.3s\n",
      "[CV 1/5] END linear_regression__fit_intercept=True, poly_features__degree=10, poly_features__interaction_only=False;, score=-10164717.223 total time= 7.1min\n",
      "[CV 2/5] END linear_regression__fit_intercept=True, poly_features__degree=10, poly_features__interaction_only=False;, score=-12965532.661 total time= 7.1min\n",
      "[CV 3/5] END linear_regression__fit_intercept=True, poly_features__degree=10, poly_features__interaction_only=False;, score=-12179755.392 total time= 7.4min\n",
      "[CV 4/5] END linear_regression__fit_intercept=True, poly_features__degree=10, poly_features__interaction_only=False;, score=-10800980.450 total time= 7.5min\n",
      "[CV 5/5] END linear_regression__fit_intercept=True, poly_features__degree=10, poly_features__interaction_only=False;, score=-9335815.659 total time= 7.2min\n",
      "[CV 1/5] END linear_regression__fit_intercept=False, poly_features__degree=2, poly_features__interaction_only=True;, score=-6014.596 total time=   0.0s\n",
      "[CV 2/5] END linear_regression__fit_intercept=False, poly_features__degree=2, poly_features__interaction_only=True;, score=-5088.173 total time=   0.0s\n",
      "[CV 3/5] END linear_regression__fit_intercept=False, poly_features__degree=2, poly_features__interaction_only=True;, score=-5408.441 total time=   0.0s\n",
      "[CV 4/5] END linear_regression__fit_intercept=False, poly_features__degree=2, poly_features__interaction_only=True;, score=-5020.990 total time=   0.0s\n",
      "[CV 5/5] END linear_regression__fit_intercept=False, poly_features__degree=2, poly_features__interaction_only=True;, score=-5148.055 total time=   0.0s\n",
      "[CV 1/5] END linear_regression__fit_intercept=False, poly_features__degree=2, poly_features__interaction_only=False;, score=-16956.412 total time=   0.0s\n",
      "[CV 2/5] END linear_regression__fit_intercept=False, poly_features__degree=2, poly_features__interaction_only=False;, score=-15614.973 total time=   0.0s\n",
      "[CV 3/5] END linear_regression__fit_intercept=False, poly_features__degree=2, poly_features__interaction_only=False;, score=-17033.390 total time=   0.0s\n",
      "[CV 4/5] END linear_regression__fit_intercept=False, poly_features__degree=2, poly_features__interaction_only=False;, score=-17454.337 total time=   0.0s\n",
      "[CV 5/5] END linear_regression__fit_intercept=False, poly_features__degree=2, poly_features__interaction_only=False;, score=-16997.346 total time=   0.0s\n",
      "[CV 1/5] END linear_regression__fit_intercept=False, poly_features__degree=3, poly_features__interaction_only=True;, score=-13703.528 total time=   0.0s\n",
      "[CV 2/5] END linear_regression__fit_intercept=False, poly_features__degree=3, poly_features__interaction_only=True;, score=-12148.281 total time=   0.0s\n",
      "[CV 3/5] END linear_regression__fit_intercept=False, poly_features__degree=3, poly_features__interaction_only=True;, score=-8326.196 total time=   0.0s\n",
      "[CV 4/5] END linear_regression__fit_intercept=False, poly_features__degree=3, poly_features__interaction_only=True;, score=-12249.244 total time=   0.0s\n",
      "[CV 5/5] END linear_regression__fit_intercept=False, poly_features__degree=3, poly_features__interaction_only=True;, score=-11886.539 total time=   0.0s\n",
      "[CV 1/5] END linear_regression__fit_intercept=False, poly_features__degree=3, poly_features__interaction_only=False;, score=-6603.536 total time=   0.0s\n",
      "[CV 2/5] END linear_regression__fit_intercept=False, poly_features__degree=3, poly_features__interaction_only=False;, score=-8202.240 total time=   0.0s\n",
      "[CV 3/5] END linear_regression__fit_intercept=False, poly_features__degree=3, poly_features__interaction_only=False;, score=-4936.843 total time=   0.0s\n",
      "[CV 4/5] END linear_regression__fit_intercept=False, poly_features__degree=3, poly_features__interaction_only=False;, score=-20209.337 total time=   0.0s\n",
      "[CV 5/5] END linear_regression__fit_intercept=False, poly_features__degree=3, poly_features__interaction_only=False;, score=-6006.645 total time=   0.0s\n",
      "[CV 1/5] END linear_regression__fit_intercept=False, poly_features__degree=4, poly_features__interaction_only=True;, score=-1530.084 total time=   0.0s\n",
      "[CV 2/5] END linear_regression__fit_intercept=False, poly_features__degree=4, poly_features__interaction_only=True;, score=-2144.982 total time=   0.1s\n",
      "[CV 3/5] END linear_regression__fit_intercept=False, poly_features__degree=4, poly_features__interaction_only=True;, score=-1607.493 total time=   0.1s\n",
      "[CV 4/5] END linear_regression__fit_intercept=False, poly_features__degree=4, poly_features__interaction_only=True;, score=-1500.642 total time=   0.0s\n",
      "[CV 5/5] END linear_regression__fit_intercept=False, poly_features__degree=4, poly_features__interaction_only=True;, score=-1395.076 total time=   0.0s\n",
      "[CV 1/5] END linear_regression__fit_intercept=False, poly_features__degree=4, poly_features__interaction_only=False;, score=-2439.727 total time=   0.3s\n",
      "[CV 2/5] END linear_regression__fit_intercept=False, poly_features__degree=4, poly_features__interaction_only=False;, score=-2708.767 total time=   0.4s\n",
      "[CV 3/5] END linear_regression__fit_intercept=False, poly_features__degree=4, poly_features__interaction_only=False;, score=-2459.926 total time=   0.3s\n",
      "[CV 4/5] END linear_regression__fit_intercept=False, poly_features__degree=4, poly_features__interaction_only=False;, score=-3135.553 total time=   0.3s\n",
      "[CV 5/5] END linear_regression__fit_intercept=False, poly_features__degree=4, poly_features__interaction_only=False;, score=-3646.465 total time=   0.3s\n",
      "[CV 1/5] END linear_regression__fit_intercept=False, poly_features__degree=6, poly_features__interaction_only=True;, score=-20624.876 total time=   0.2s\n",
      "[CV 2/5] END linear_regression__fit_intercept=False, poly_features__degree=6, poly_features__interaction_only=True;, score=-6065.672 total time=   0.2s\n",
      "[CV 3/5] END linear_regression__fit_intercept=False, poly_features__degree=6, poly_features__interaction_only=True;, score=-13604.605 total time=   0.2s\n",
      "[CV 4/5] END linear_regression__fit_intercept=False, poly_features__degree=6, poly_features__interaction_only=True;, score=-27137.212 total time=   0.2s\n",
      "[CV 5/5] END linear_regression__fit_intercept=False, poly_features__degree=6, poly_features__interaction_only=True;, score=-14472.737 total time=   0.2s\n",
      "[CV 1/5] END linear_regression__fit_intercept=False, poly_features__degree=6, poly_features__interaction_only=False;, score=-28703.313 total time=  19.0s\n",
      "[CV 2/5] END linear_regression__fit_intercept=False, poly_features__degree=6, poly_features__interaction_only=False;, score=-11596.332 total time=  19.4s\n",
      "[CV 3/5] END linear_regression__fit_intercept=False, poly_features__degree=6, poly_features__interaction_only=False;, score=-66292.798 total time=  18.7s\n",
      "[CV 4/5] END linear_regression__fit_intercept=False, poly_features__degree=6, poly_features__interaction_only=False;, score=-78012.535 total time=  18.8s\n",
      "[CV 5/5] END linear_regression__fit_intercept=False, poly_features__degree=6, poly_features__interaction_only=False;, score=-181806.449 total time=  18.8s\n",
      "[CV 1/5] END linear_regression__fit_intercept=False, poly_features__degree=10, poly_features__interaction_only=True;, score=-45904.227 total time=   0.2s\n",
      "[CV 2/5] END linear_regression__fit_intercept=False, poly_features__degree=10, poly_features__interaction_only=True;, score=-50279.526 total time=   0.2s\n",
      "[CV 3/5] END linear_regression__fit_intercept=False, poly_features__degree=10, poly_features__interaction_only=True;, score=-47949.792 total time=   0.2s\n",
      "[CV 4/5] END linear_regression__fit_intercept=False, poly_features__degree=10, poly_features__interaction_only=True;, score=-70482.420 total time=   0.2s\n",
      "[CV 5/5] END linear_regression__fit_intercept=False, poly_features__degree=10, poly_features__interaction_only=True;, score=-58930.227 total time=   0.2s\n",
      "[CV 1/5] END linear_regression__fit_intercept=False, poly_features__degree=10, poly_features__interaction_only=False;, score=-14643598.063 total time= 7.1min\n",
      "[CV 2/5] END linear_regression__fit_intercept=False, poly_features__degree=10, poly_features__interaction_only=False;, score=-15191434.381 total time= 7.9min\n",
      "[CV 3/5] END linear_regression__fit_intercept=False, poly_features__degree=10, poly_features__interaction_only=False;, score=-15155991.445 total time= 7.8min\n",
      "[CV 4/5] END linear_regression__fit_intercept=False, poly_features__degree=10, poly_features__interaction_only=False;, score=-14949767.494 total time= 7.4min\n",
      "[CV 5/5] END linear_regression__fit_intercept=False, poly_features__degree=10, poly_features__interaction_only=False;, score=-15360048.720 total time= 7.0min\n",
      "Best Parameters: {'linear_regression__fit_intercept': True, 'poly_features__degree': 10, 'poly_features__interaction_only': True}\n",
      "Best Cross-validation Score: -1541.8486177801747\n",
      "MSE -> 1642.5869098008188\n"
     ]
    }
   ],
   "source": [
    "from sklearn.preprocessing import PolynomialFeatures\n",
    "from sklearn.linear_model import LinearRegression\n",
    "from sklearn.pipeline import Pipeline\n",
    "\n",
    "def perform_polyReg(x_train, x_test, y_train, y_test):\n",
    "    model = Pipeline([\n",
    "        ('poly_features', PolynomialFeatures()),  # Polynomial Feature Generator\n",
    "        ('linear_regression', LinearRegression())  # Linear regression\n",
    "    ])\n",
    "\n",
    "    parameters = {\n",
    "        'poly_features__degree': [2, 3, 4, 6, 10],\n",
    "        'poly_features__interaction_only': [True, False],\n",
    "        'linear_regression__fit_intercept': [True, False]\n",
    "    }\n",
    "\n",
    "    Helper.Grid_Search(model, x_train, y_train, x_test, y_test, parameters)\n",
    "\n",
    "perform_polyReg(x_train, x_test, y_train, y_test)"
   ]
  },
  {
   "cell_type": "code",
   "execution_count": 14,
   "metadata": {},
   "outputs": [
    {
     "name": "stdout",
     "output_type": "stream",
     "text": [
      "MSE -> 1642.5869098008188\n"
     ]
    }
   ],
   "source": [
    "from sklearn.metrics import mean_squared_error\n",
    "\n",
    "fine_tune_model = Pipeline([\n",
    "            ('poly_features', PolynomialFeatures(degree=10, interaction_only=True)),  # Polynomial Feature Generator\n",
    "            ('linear_regression', LinearRegression(fit_intercept= True))  # Linear regression\n",
    "        ])\n",
    "\n",
    "fine_tune_model.fit(x_train, y_train)\n",
    "\n",
    "y_pred = fine_tune_model.predict(x_test)\n",
    "\n",
    "mse = mean_squared_error(y_test, y_pred)\n",
    "print(f\"MSE -> {mse}\")"
   ]
  },
  {
   "cell_type": "code",
   "execution_count": 18,
   "metadata": {},
   "outputs": [
    {
     "name": "stdout",
     "output_type": "stream",
     "text": [
      "MSE -> 1642.5869098008188\n"
     ]
    }
   ],
   "source": [
    "fine_tune_model = Pipeline([\n",
    "            ('poly_features', PolynomialFeatures(degree=15, interaction_only=True)),  # Polynomial Feature Generator\n",
    "            ('linear_regression', LinearRegression(fit_intercept= True))  # Linear regression\n",
    "        ])\n",
    "\n",
    "fine_tune_model.fit(x_train, y_train)\n",
    "\n",
    "y_pred = fine_tune_model.predict(x_test)\n",
    "\n",
    "mse = mean_squared_error(y_test, y_pred)\n",
    "print(f\"MSE -> {mse}\")"
   ]
  },
  {
   "cell_type": "markdown",
   "metadata": {},
   "source": [
    "Cubic Interpolation"
   ]
  },
  {
   "cell_type": "code",
   "execution_count": 20,
   "metadata": {},
   "outputs": [
    {
     "name": "stdout",
     "output_type": "stream",
     "text": [
      "Fitting 5 folds for each of 10 candidates, totalling 50 fits\n",
      "[CV 1/5] END linear_regression__fit_intercept=True, poly_features__degree=2, poly_features__interaction_only=True;, score=-6254.431 total time=   0.0s\n",
      "[CV 2/5] END linear_regression__fit_intercept=True, poly_features__degree=2, poly_features__interaction_only=True;, score=-5863.404 total time=   0.0s\n",
      "[CV 3/5] END linear_regression__fit_intercept=True, poly_features__degree=2, poly_features__interaction_only=True;, score=-6578.940 total time=   0.0s\n",
      "[CV 4/5] END linear_regression__fit_intercept=True, poly_features__degree=2, poly_features__interaction_only=True;, score=-5870.437 total time=   0.0s\n",
      "[CV 5/5] END linear_regression__fit_intercept=True, poly_features__degree=2, poly_features__interaction_only=True;, score=-5825.588 total time=   0.0s\n",
      "[CV 1/5] END linear_regression__fit_intercept=True, poly_features__degree=3, poly_features__interaction_only=True;, score=-3386.429 total time=   0.0s\n",
      "[CV 2/5] END linear_regression__fit_intercept=True, poly_features__degree=3, poly_features__interaction_only=True;, score=-2780.061 total time=   0.0s\n",
      "[CV 3/5] END linear_regression__fit_intercept=True, poly_features__degree=3, poly_features__interaction_only=True;, score=-2963.112 total time=   0.0s\n",
      "[CV 4/5] END linear_regression__fit_intercept=True, poly_features__degree=3, poly_features__interaction_only=True;, score=-2860.254 total time=   0.0s\n",
      "[CV 5/5] END linear_regression__fit_intercept=True, poly_features__degree=3, poly_features__interaction_only=True;, score=-2880.663 total time=   0.0s\n",
      "[CV 1/5] END linear_regression__fit_intercept=True, poly_features__degree=4, poly_features__interaction_only=True;, score=-2335.882 total time=   0.0s\n",
      "[CV 2/5] END linear_regression__fit_intercept=True, poly_features__degree=4, poly_features__interaction_only=True;, score=-2189.515 total time=   0.0s\n",
      "[CV 3/5] END linear_regression__fit_intercept=True, poly_features__degree=4, poly_features__interaction_only=True;, score=-2391.088 total time=   0.0s\n",
      "[CV 4/5] END linear_regression__fit_intercept=True, poly_features__degree=4, poly_features__interaction_only=True;, score=-2266.618 total time=   0.1s\n",
      "[CV 5/5] END linear_regression__fit_intercept=True, poly_features__degree=4, poly_features__interaction_only=True;, score=-2342.072 total time=   0.0s\n",
      "[CV 1/5] END linear_regression__fit_intercept=True, poly_features__degree=6, poly_features__interaction_only=True;, score=-1573.825 total time=   0.1s\n",
      "[CV 2/5] END linear_regression__fit_intercept=True, poly_features__degree=6, poly_features__interaction_only=True;, score=-2783.097 total time=   0.1s\n",
      "[CV 3/5] END linear_regression__fit_intercept=True, poly_features__degree=6, poly_features__interaction_only=True;, score=-2762.486 total time=   0.1s\n",
      "[CV 4/5] END linear_regression__fit_intercept=True, poly_features__degree=6, poly_features__interaction_only=True;, score=-2652.944 total time=   0.1s\n",
      "[CV 5/5] END linear_regression__fit_intercept=True, poly_features__degree=6, poly_features__interaction_only=True;, score=-2511.626 total time=   0.2s\n",
      "[CV 1/5] END linear_regression__fit_intercept=True, poly_features__degree=10, poly_features__interaction_only=True;, score=-2639.698 total time=   0.2s\n",
      "[CV 2/5] END linear_regression__fit_intercept=True, poly_features__degree=10, poly_features__interaction_only=True;, score=-1971.228 total time=   0.2s\n",
      "[CV 3/5] END linear_regression__fit_intercept=True, poly_features__degree=10, poly_features__interaction_only=True;, score=-1831.973 total time=   0.2s\n",
      "[CV 4/5] END linear_regression__fit_intercept=True, poly_features__degree=10, poly_features__interaction_only=True;, score=-1971.257 total time=   0.2s\n",
      "[CV 5/5] END linear_regression__fit_intercept=True, poly_features__degree=10, poly_features__interaction_only=True;, score=-2164.900 total time=   0.2s\n",
      "[CV 1/5] END linear_regression__fit_intercept=False, poly_features__degree=2, poly_features__interaction_only=True;, score=-7060.372 total time=   0.0s\n",
      "[CV 2/5] END linear_regression__fit_intercept=False, poly_features__degree=2, poly_features__interaction_only=True;, score=-6343.534 total time=   0.0s\n",
      "[CV 3/5] END linear_regression__fit_intercept=False, poly_features__degree=2, poly_features__interaction_only=True;, score=-7155.957 total time=   0.0s\n",
      "[CV 4/5] END linear_regression__fit_intercept=False, poly_features__degree=2, poly_features__interaction_only=True;, score=-6444.986 total time=   0.0s\n",
      "[CV 5/5] END linear_regression__fit_intercept=False, poly_features__degree=2, poly_features__interaction_only=True;, score=-6744.257 total time=   0.0s\n",
      "[CV 1/5] END linear_regression__fit_intercept=False, poly_features__degree=3, poly_features__interaction_only=True;, score=-7983.652 total time=   0.0s\n",
      "[CV 2/5] END linear_regression__fit_intercept=False, poly_features__degree=3, poly_features__interaction_only=True;, score=-9514.524 total time=   0.0s\n",
      "[CV 3/5] END linear_regression__fit_intercept=False, poly_features__degree=3, poly_features__interaction_only=True;, score=-8855.185 total time=   0.0s\n",
      "[CV 4/5] END linear_regression__fit_intercept=False, poly_features__degree=3, poly_features__interaction_only=True;, score=-11882.885 total time=   0.0s\n",
      "[CV 5/5] END linear_regression__fit_intercept=False, poly_features__degree=3, poly_features__interaction_only=True;, score=-8108.039 total time=   0.0s\n",
      "[CV 1/5] END linear_regression__fit_intercept=False, poly_features__degree=4, poly_features__interaction_only=True;, score=-4460.166 total time=   0.0s\n",
      "[CV 2/5] END linear_regression__fit_intercept=False, poly_features__degree=4, poly_features__interaction_only=True;, score=-5264.621 total time=   0.1s\n",
      "[CV 3/5] END linear_regression__fit_intercept=False, poly_features__degree=4, poly_features__interaction_only=True;, score=-3833.023 total time=   0.1s\n",
      "[CV 4/5] END linear_regression__fit_intercept=False, poly_features__degree=4, poly_features__interaction_only=True;, score=-7124.865 total time=   0.1s\n",
      "[CV 5/5] END linear_regression__fit_intercept=False, poly_features__degree=4, poly_features__interaction_only=True;, score=-5445.059 total time=   0.1s\n",
      "[CV 1/5] END linear_regression__fit_intercept=False, poly_features__degree=6, poly_features__interaction_only=True;, score=-8174.735 total time=   0.2s\n",
      "[CV 2/5] END linear_regression__fit_intercept=False, poly_features__degree=6, poly_features__interaction_only=True;, score=-6850.966 total time=   0.1s\n",
      "[CV 3/5] END linear_regression__fit_intercept=False, poly_features__degree=6, poly_features__interaction_only=True;, score=-10495.629 total time=   0.1s\n",
      "[CV 4/5] END linear_regression__fit_intercept=False, poly_features__degree=6, poly_features__interaction_only=True;, score=-75877.684 total time=   0.2s\n",
      "[CV 5/5] END linear_regression__fit_intercept=False, poly_features__degree=6, poly_features__interaction_only=True;, score=-11120.922 total time=   0.1s\n",
      "[CV 1/5] END linear_regression__fit_intercept=False, poly_features__degree=10, poly_features__interaction_only=True;, score=-76567.645 total time=   0.2s\n",
      "[CV 2/5] END linear_regression__fit_intercept=False, poly_features__degree=10, poly_features__interaction_only=True;, score=-32961.434 total time=   0.2s\n",
      "[CV 3/5] END linear_regression__fit_intercept=False, poly_features__degree=10, poly_features__interaction_only=True;, score=-37076.897 total time=   0.2s\n",
      "[CV 4/5] END linear_regression__fit_intercept=False, poly_features__degree=10, poly_features__interaction_only=True;, score=-68484.052 total time=   0.2s\n",
      "[CV 5/5] END linear_regression__fit_intercept=False, poly_features__degree=10, poly_features__interaction_only=True;, score=-47925.654 total time=   0.2s\n",
      "Best Parameters: {'linear_regression__fit_intercept': True, 'poly_features__degree': 10, 'poly_features__interaction_only': True}\n",
      "Best Cross-validation Score: -2115.81123394602\n",
      "MSE -> 1867.9293866282849\n"
     ]
    }
   ],
   "source": [
    "data_set = Helper.load_data(dataset='Cubic')\n",
    "data_set = Helper.proc_data(data_set, del_columns = ['DATE'])\n",
    "data_set.head()\n",
    "\n",
    "x_train, x_test, y_train, y_test = Helper.split_data(data_set, 'GDP')\n",
    "\n",
    "def perform_polyReg(x_train, x_test, y_train, y_test):\n",
    "    model = Pipeline([\n",
    "        ('poly_features', PolynomialFeatures()),  # Polynomial Feature Generator\n",
    "        ('linear_regression', LinearRegression())  # Linear regression\n",
    "    ])\n",
    "\n",
    "    parameters = {\n",
    "        'poly_features__degree': [2, 3, 4, 6, 10],\n",
    "        'poly_features__interaction_only': [True],\n",
    "        'linear_regression__fit_intercept': [True, False]\n",
    "    }\n",
    "\n",
    "    Helper.Grid_Search(model, x_train, y_train, x_test, y_test, parameters)\n",
    "\n",
    "perform_polyReg(x_train, x_test, y_train, y_test)"
   ]
  },
  {
   "cell_type": "code",
   "execution_count": 21,
   "metadata": {},
   "outputs": [
    {
     "name": "stdout",
     "output_type": "stream",
     "text": [
      "MSE -> 1867.9293866282849\n"
     ]
    }
   ],
   "source": [
    "from sklearn.metrics import mean_squared_error\n",
    "\n",
    "fine_tune_model = Pipeline([\n",
    "            ('poly_features', PolynomialFeatures(degree=10, interaction_only=True)),  # Polynomial Feature Generator\n",
    "            ('linear_regression', LinearRegression(fit_intercept= True))  # Linear regression\n",
    "        ])\n",
    "\n",
    "fine_tune_model.fit(x_train, y_train)\n",
    "\n",
    "y_pred = fine_tune_model.predict(x_test)\n",
    "\n",
    "mse = mean_squared_error(y_test, y_pred)\n",
    "print(f\"MSE -> {mse}\")"
   ]
  },
  {
   "cell_type": "code",
   "execution_count": 22,
   "metadata": {},
   "outputs": [
    {
     "name": "stdout",
     "output_type": "stream",
     "text": [
      "MSE -> 1867.9293866282849\n"
     ]
    }
   ],
   "source": [
    "fine_tune_model = Pipeline([\n",
    "            ('poly_features', PolynomialFeatures(degree=15, interaction_only=True)),  # Polynomial Feature Generator\n",
    "            ('linear_regression', LinearRegression(fit_intercept= True))  # Linear regression\n",
    "        ])\n",
    "\n",
    "fine_tune_model.fit(x_train, y_train)\n",
    "\n",
    "y_pred = fine_tune_model.predict(x_test)\n",
    "\n",
    "mse = mean_squared_error(y_test, y_pred)\n",
    "print(f\"MSE -> {mse}\")"
   ]
  },
  {
   "cell_type": "markdown",
   "metadata": {},
   "source": [
    "Clearly, all of the previously conducted experiments indicate that only Linear Interpolation, should be tried. We shall try this now, with Ridge and Lasso Regression."
   ]
  },
  {
   "cell_type": "code",
   "execution_count": 23,
   "metadata": {},
   "outputs": [
    {
     "name": "stdout",
     "output_type": "stream",
     "text": [
      "Fitting 5 folds for each of 20 candidates, totalling 100 fits\n",
      "[CV 1/5] END poly_features__degree=2, poly_features__interaction_only=True, ridge__alpha=1;, score=-4760.396 total time=   0.0s\n",
      "[CV 2/5] END poly_features__degree=2, poly_features__interaction_only=True, ridge__alpha=1;, score=-4287.356 total time=   0.0s\n",
      "[CV 3/5] END poly_features__degree=2, poly_features__interaction_only=True, ridge__alpha=1;, score=-4659.986 total time=   0.0s\n",
      "[CV 4/5] END poly_features__degree=2, poly_features__interaction_only=True, ridge__alpha=1;, score=-4302.034 total time=   0.0s\n",
      "[CV 5/5] END poly_features__degree=2, poly_features__interaction_only=True, ridge__alpha=1;, score=-4220.525 total time=   0.0s\n",
      "[CV 1/5] END poly_features__degree=2, poly_features__interaction_only=True, ridge__alpha=0.1;, score=-4604.965 total time=   0.0s\n",
      "[CV 2/5] END poly_features__degree=2, poly_features__interaction_only=True, ridge__alpha=0.1;, score=-4209.256 total time=   0.0s\n",
      "[CV 3/5] END poly_features__degree=2, poly_features__interaction_only=True, ridge__alpha=0.1;, score=-4596.562 total time=   0.0s\n",
      "[CV 4/5] END poly_features__degree=2, poly_features__interaction_only=True, ridge__alpha=0.1;, score=-4234.157 total time=   0.0s\n",
      "[CV 5/5] END poly_features__degree=2, poly_features__interaction_only=True, ridge__alpha=0.1;, score=-4151.566 total time=   0.0s\n",
      "[CV 1/5] END poly_features__degree=2, poly_features__interaction_only=True, ridge__alpha=0.001;, score=-4580.177 total time=   0.0s\n",
      "[CV 2/5] END poly_features__degree=2, poly_features__interaction_only=True, ridge__alpha=0.001;, score=-4207.978 total time=   0.0s\n",
      "[CV 3/5] END poly_features__degree=2, poly_features__interaction_only=True, ridge__alpha=0.001;, score=-4597.458 total time=   0.0s\n",
      "[CV 4/5] END poly_features__degree=2, poly_features__interaction_only=True, ridge__alpha=0.001;, score=-4238.129 total time=   0.0s\n",
      "[CV 5/5] END poly_features__degree=2, poly_features__interaction_only=True, ridge__alpha=0.001;, score=-4148.571 total time=   0.0s\n",
      "[CV 1/5] END poly_features__degree=2, poly_features__interaction_only=True, ridge__alpha=1e-05;, score=-4579.912 total time=   0.0s\n",
      "[CV 2/5] END poly_features__degree=2, poly_features__interaction_only=True, ridge__alpha=1e-05;, score=-4208.029 total time=   0.0s\n",
      "[CV 3/5] END poly_features__degree=2, poly_features__interaction_only=True, ridge__alpha=1e-05;, score=-4597.530 total time=   0.0s\n",
      "[CV 4/5] END poly_features__degree=2, poly_features__interaction_only=True, ridge__alpha=1e-05;, score=-4238.272 total time=   0.0s\n"
     ]
    },
    {
     "name": "stderr",
     "output_type": "stream",
     "text": [
      "c:\\Users\\Abhirup Das\\AppData\\Local\\Programs\\Python\\Python312\\Lib\\site-packages\\sklearn\\linear_model\\_ridge.py:216: LinAlgWarning: Ill-conditioned matrix (rcond=8.73443e-30): result may not be accurate.\n",
      "  return linalg.solve(A, Xy, assume_a=\"pos\", overwrite_a=True).T\n",
      "c:\\Users\\Abhirup Das\\AppData\\Local\\Programs\\Python\\Python312\\Lib\\site-packages\\sklearn\\linear_model\\_ridge.py:216: LinAlgWarning: Ill-conditioned matrix (rcond=8.68892e-30): result may not be accurate.\n",
      "  return linalg.solve(A, Xy, assume_a=\"pos\", overwrite_a=True).T\n",
      "c:\\Users\\Abhirup Das\\AppData\\Local\\Programs\\Python\\Python312\\Lib\\site-packages\\sklearn\\linear_model\\_ridge.py:216: LinAlgWarning: Ill-conditioned matrix (rcond=8.74791e-30): result may not be accurate.\n",
      "  return linalg.solve(A, Xy, assume_a=\"pos\", overwrite_a=True).T\n",
      "c:\\Users\\Abhirup Das\\AppData\\Local\\Programs\\Python\\Python312\\Lib\\site-packages\\sklearn\\linear_model\\_ridge.py:216: LinAlgWarning: Ill-conditioned matrix (rcond=8.80464e-30): result may not be accurate.\n",
      "  return linalg.solve(A, Xy, assume_a=\"pos\", overwrite_a=True).T\n",
      "c:\\Users\\Abhirup Das\\AppData\\Local\\Programs\\Python\\Python312\\Lib\\site-packages\\sklearn\\linear_model\\_ridge.py:216: LinAlgWarning: Ill-conditioned matrix (rcond=8.75231e-30): result may not be accurate.\n",
      "  return linalg.solve(A, Xy, assume_a=\"pos\", overwrite_a=True).T\n",
      "c:\\Users\\Abhirup Das\\AppData\\Local\\Programs\\Python\\Python312\\Lib\\site-packages\\sklearn\\linear_model\\_ridge.py:216: LinAlgWarning: Ill-conditioned matrix (rcond=8.73443e-31): result may not be accurate.\n",
      "  return linalg.solve(A, Xy, assume_a=\"pos\", overwrite_a=True).T\n",
      "c:\\Users\\Abhirup Das\\AppData\\Local\\Programs\\Python\\Python312\\Lib\\site-packages\\sklearn\\linear_model\\_ridge.py:216: LinAlgWarning: Ill-conditioned matrix (rcond=8.68892e-31): result may not be accurate.\n",
      "  return linalg.solve(A, Xy, assume_a=\"pos\", overwrite_a=True).T\n",
      "c:\\Users\\Abhirup Das\\AppData\\Local\\Programs\\Python\\Python312\\Lib\\site-packages\\sklearn\\linear_model\\_ridge.py:216: LinAlgWarning: Ill-conditioned matrix (rcond=8.74791e-31): result may not be accurate.\n",
      "  return linalg.solve(A, Xy, assume_a=\"pos\", overwrite_a=True).T\n",
      "c:\\Users\\Abhirup Das\\AppData\\Local\\Programs\\Python\\Python312\\Lib\\site-packages\\sklearn\\linear_model\\_ridge.py:216: LinAlgWarning: Ill-conditioned matrix (rcond=8.80464e-31): result may not be accurate.\n",
      "  return linalg.solve(A, Xy, assume_a=\"pos\", overwrite_a=True).T\n",
      "c:\\Users\\Abhirup Das\\AppData\\Local\\Programs\\Python\\Python312\\Lib\\site-packages\\sklearn\\linear_model\\_ridge.py:216: LinAlgWarning: Ill-conditioned matrix (rcond=8.75231e-31): result may not be accurate.\n",
      "  return linalg.solve(A, Xy, assume_a=\"pos\", overwrite_a=True).T\n",
      "c:\\Users\\Abhirup Das\\AppData\\Local\\Programs\\Python\\Python312\\Lib\\site-packages\\sklearn\\linear_model\\_ridge.py:216: LinAlgWarning: Ill-conditioned matrix (rcond=8.73443e-33): result may not be accurate.\n",
      "  return linalg.solve(A, Xy, assume_a=\"pos\", overwrite_a=True).T\n",
      "c:\\Users\\Abhirup Das\\AppData\\Local\\Programs\\Python\\Python312\\Lib\\site-packages\\sklearn\\linear_model\\_ridge.py:216: LinAlgWarning: Ill-conditioned matrix (rcond=8.68892e-33): result may not be accurate.\n",
      "  return linalg.solve(A, Xy, assume_a=\"pos\", overwrite_a=True).T\n",
      "c:\\Users\\Abhirup Das\\AppData\\Local\\Programs\\Python\\Python312\\Lib\\site-packages\\sklearn\\linear_model\\_ridge.py:216: LinAlgWarning: Ill-conditioned matrix (rcond=8.74791e-33): result may not be accurate.\n",
      "  return linalg.solve(A, Xy, assume_a=\"pos\", overwrite_a=True).T\n",
      "c:\\Users\\Abhirup Das\\AppData\\Local\\Programs\\Python\\Python312\\Lib\\site-packages\\sklearn\\linear_model\\_ridge.py:216: LinAlgWarning: Ill-conditioned matrix (rcond=8.80464e-33): result may not be accurate.\n",
      "  return linalg.solve(A, Xy, assume_a=\"pos\", overwrite_a=True).T\n",
      "c:\\Users\\Abhirup Das\\AppData\\Local\\Programs\\Python\\Python312\\Lib\\site-packages\\sklearn\\linear_model\\_ridge.py:216: LinAlgWarning: Ill-conditioned matrix (rcond=8.75231e-33): result may not be accurate.\n",
      "  return linalg.solve(A, Xy, assume_a=\"pos\", overwrite_a=True).T\n",
      "c:\\Users\\Abhirup Das\\AppData\\Local\\Programs\\Python\\Python312\\Lib\\site-packages\\sklearn\\linear_model\\_ridge.py:216: LinAlgWarning: Ill-conditioned matrix (rcond=8.73443e-35): result may not be accurate.\n",
      "  return linalg.solve(A, Xy, assume_a=\"pos\", overwrite_a=True).T\n",
      "c:\\Users\\Abhirup Das\\AppData\\Local\\Programs\\Python\\Python312\\Lib\\site-packages\\sklearn\\linear_model\\_ridge.py:216: LinAlgWarning: Ill-conditioned matrix (rcond=8.68892e-35): result may not be accurate.\n",
      "  return linalg.solve(A, Xy, assume_a=\"pos\", overwrite_a=True).T\n",
      "c:\\Users\\Abhirup Das\\AppData\\Local\\Programs\\Python\\Python312\\Lib\\site-packages\\sklearn\\linear_model\\_ridge.py:216: LinAlgWarning: Ill-conditioned matrix (rcond=8.74791e-35): result may not be accurate.\n",
      "  return linalg.solve(A, Xy, assume_a=\"pos\", overwrite_a=True).T\n",
      "c:\\Users\\Abhirup Das\\AppData\\Local\\Programs\\Python\\Python312\\Lib\\site-packages\\sklearn\\linear_model\\_ridge.py:216: LinAlgWarning: Ill-conditioned matrix (rcond=8.80464e-35): result may not be accurate.\n",
      "  return linalg.solve(A, Xy, assume_a=\"pos\", overwrite_a=True).T\n",
      "c:\\Users\\Abhirup Das\\AppData\\Local\\Programs\\Python\\Python312\\Lib\\site-packages\\sklearn\\linear_model\\_ridge.py:216: LinAlgWarning: Ill-conditioned matrix (rcond=8.75231e-35): result may not be accurate.\n",
      "  return linalg.solve(A, Xy, assume_a=\"pos\", overwrite_a=True).T\n"
     ]
    },
    {
     "name": "stdout",
     "output_type": "stream",
     "text": [
      "[CV 5/5] END poly_features__degree=2, poly_features__interaction_only=True, ridge__alpha=1e-05;, score=-4148.576 total time=   0.0s\n",
      "[CV 1/5] END poly_features__degree=3, poly_features__interaction_only=True, ridge__alpha=1;, score=-1548.230 total time=   0.0s\n",
      "[CV 2/5] END poly_features__degree=3, poly_features__interaction_only=True, ridge__alpha=1;, score=-1489.859 total time=   0.0s\n",
      "[CV 3/5] END poly_features__degree=3, poly_features__interaction_only=True, ridge__alpha=1;, score=-1527.031 total time=   0.0s\n",
      "[CV 4/5] END poly_features__degree=3, poly_features__interaction_only=True, ridge__alpha=1;, score=-1612.494 total time=   0.0s\n",
      "[CV 5/5] END poly_features__degree=3, poly_features__interaction_only=True, ridge__alpha=1;, score=-1545.706 total time=   0.0s\n",
      "[CV 1/5] END poly_features__degree=3, poly_features__interaction_only=True, ridge__alpha=0.1;, score=-1532.176 total time=   0.0s\n",
      "[CV 2/5] END poly_features__degree=3, poly_features__interaction_only=True, ridge__alpha=0.1;, score=-1474.918 total time=   0.0s\n",
      "[CV 3/5] END poly_features__degree=3, poly_features__interaction_only=True, ridge__alpha=0.1;, score=-1508.767 total time=   0.0s\n"
     ]
    },
    {
     "name": "stderr",
     "output_type": "stream",
     "text": [
      "c:\\Users\\Abhirup Das\\AppData\\Local\\Programs\\Python\\Python312\\Lib\\site-packages\\sklearn\\linear_model\\_ridge.py:216: LinAlgWarning: Ill-conditioned matrix (rcond=1.4373e-38): result may not be accurate.\n",
      "  return linalg.solve(A, Xy, assume_a=\"pos\", overwrite_a=True).T\n",
      "c:\\Users\\Abhirup Das\\AppData\\Local\\Programs\\Python\\Python312\\Lib\\site-packages\\sklearn\\linear_model\\_ridge.py:216: LinAlgWarning: Ill-conditioned matrix (rcond=1.42244e-38): result may not be accurate.\n",
      "  return linalg.solve(A, Xy, assume_a=\"pos\", overwrite_a=True).T\n",
      "c:\\Users\\Abhirup Das\\AppData\\Local\\Programs\\Python\\Python312\\Lib\\site-packages\\sklearn\\linear_model\\_ridge.py:216: LinAlgWarning: Ill-conditioned matrix (rcond=1.44173e-38): result may not be accurate.\n",
      "  return linalg.solve(A, Xy, assume_a=\"pos\", overwrite_a=True).T\n",
      "c:\\Users\\Abhirup Das\\AppData\\Local\\Programs\\Python\\Python312\\Lib\\site-packages\\sklearn\\linear_model\\_ridge.py:216: LinAlgWarning: Ill-conditioned matrix (rcond=1.45257e-38): result may not be accurate.\n",
      "  return linalg.solve(A, Xy, assume_a=\"pos\", overwrite_a=True).T\n",
      "c:\\Users\\Abhirup Das\\AppData\\Local\\Programs\\Python\\Python312\\Lib\\site-packages\\sklearn\\linear_model\\_ridge.py:216: LinAlgWarning: Ill-conditioned matrix (rcond=1.44025e-38): result may not be accurate.\n",
      "  return linalg.solve(A, Xy, assume_a=\"pos\", overwrite_a=True).T\n",
      "c:\\Users\\Abhirup Das\\AppData\\Local\\Programs\\Python\\Python312\\Lib\\site-packages\\sklearn\\linear_model\\_ridge.py:216: LinAlgWarning: Ill-conditioned matrix (rcond=1.44555e-39): result may not be accurate.\n",
      "  return linalg.solve(A, Xy, assume_a=\"pos\", overwrite_a=True).T\n",
      "c:\\Users\\Abhirup Das\\AppData\\Local\\Programs\\Python\\Python312\\Lib\\site-packages\\sklearn\\linear_model\\_ridge.py:216: LinAlgWarning: Ill-conditioned matrix (rcond=1.43096e-39): result may not be accurate.\n",
      "  return linalg.solve(A, Xy, assume_a=\"pos\", overwrite_a=True).T\n",
      "c:\\Users\\Abhirup Das\\AppData\\Local\\Programs\\Python\\Python312\\Lib\\site-packages\\sklearn\\linear_model\\_ridge.py:216: LinAlgWarning: Ill-conditioned matrix (rcond=1.45007e-39): result may not be accurate.\n",
      "  return linalg.solve(A, Xy, assume_a=\"pos\", overwrite_a=True).T\n",
      "c:\\Users\\Abhirup Das\\AppData\\Local\\Programs\\Python\\Python312\\Lib\\site-packages\\sklearn\\linear_model\\_ridge.py:216: LinAlgWarning: Ill-conditioned matrix (rcond=1.46115e-39): result may not be accurate.\n",
      "  return linalg.solve(A, Xy, assume_a=\"pos\", overwrite_a=True).T\n",
      "c:\\Users\\Abhirup Das\\AppData\\Local\\Programs\\Python\\Python312\\Lib\\site-packages\\sklearn\\linear_model\\_ridge.py:216: LinAlgWarning: Ill-conditioned matrix (rcond=1.44861e-39): result may not be accurate.\n",
      "  return linalg.solve(A, Xy, assume_a=\"pos\", overwrite_a=True).T\n",
      "c:\\Users\\Abhirup Das\\AppData\\Local\\Programs\\Python\\Python312\\Lib\\site-packages\\sklearn\\linear_model\\_ridge.py:216: LinAlgWarning: Ill-conditioned matrix (rcond=1.44555e-41): result may not be accurate.\n",
      "  return linalg.solve(A, Xy, assume_a=\"pos\", overwrite_a=True).T\n",
      "c:\\Users\\Abhirup Das\\AppData\\Local\\Programs\\Python\\Python312\\Lib\\site-packages\\sklearn\\linear_model\\_ridge.py:216: LinAlgWarning: Ill-conditioned matrix (rcond=1.43096e-41): result may not be accurate.\n",
      "  return linalg.solve(A, Xy, assume_a=\"pos\", overwrite_a=True).T\n",
      "c:\\Users\\Abhirup Das\\AppData\\Local\\Programs\\Python\\Python312\\Lib\\site-packages\\sklearn\\linear_model\\_ridge.py:216: LinAlgWarning: Ill-conditioned matrix (rcond=1.45007e-41): result may not be accurate.\n",
      "  return linalg.solve(A, Xy, assume_a=\"pos\", overwrite_a=True).T\n",
      "c:\\Users\\Abhirup Das\\AppData\\Local\\Programs\\Python\\Python312\\Lib\\site-packages\\sklearn\\linear_model\\_ridge.py:216: LinAlgWarning: Ill-conditioned matrix (rcond=1.46115e-41): result may not be accurate.\n",
      "  return linalg.solve(A, Xy, assume_a=\"pos\", overwrite_a=True).T\n",
      "c:\\Users\\Abhirup Das\\AppData\\Local\\Programs\\Python\\Python312\\Lib\\site-packages\\sklearn\\linear_model\\_ridge.py:216: LinAlgWarning: Ill-conditioned matrix (rcond=1.44861e-41): result may not be accurate.\n",
      "  return linalg.solve(A, Xy, assume_a=\"pos\", overwrite_a=True).T\n",
      "c:\\Users\\Abhirup Das\\AppData\\Local\\Programs\\Python\\Python312\\Lib\\site-packages\\sklearn\\linear_model\\_ridge.py:216: LinAlgWarning: Ill-conditioned matrix (rcond=1.44555e-43): result may not be accurate.\n",
      "  return linalg.solve(A, Xy, assume_a=\"pos\", overwrite_a=True).T\n",
      "c:\\Users\\Abhirup Das\\AppData\\Local\\Programs\\Python\\Python312\\Lib\\site-packages\\sklearn\\linear_model\\_ridge.py:216: LinAlgWarning: Ill-conditioned matrix (rcond=1.43096e-43): result may not be accurate.\n",
      "  return linalg.solve(A, Xy, assume_a=\"pos\", overwrite_a=True).T\n"
     ]
    },
    {
     "name": "stdout",
     "output_type": "stream",
     "text": [
      "[CV 4/5] END poly_features__degree=3, poly_features__interaction_only=True, ridge__alpha=0.1;, score=-1604.443 total time=   0.0s\n",
      "[CV 5/5] END poly_features__degree=3, poly_features__interaction_only=True, ridge__alpha=0.1;, score=-1531.758 total time=   0.0s\n",
      "[CV 1/5] END poly_features__degree=3, poly_features__interaction_only=True, ridge__alpha=0.001;, score=-1503.746 total time=   0.0s\n",
      "[CV 2/5] END poly_features__degree=3, poly_features__interaction_only=True, ridge__alpha=0.001;, score=-1450.328 total time=   0.0s\n",
      "[CV 3/5] END poly_features__degree=3, poly_features__interaction_only=True, ridge__alpha=0.001;, score=-1482.464 total time=   0.0s\n",
      "[CV 4/5] END poly_features__degree=3, poly_features__interaction_only=True, ridge__alpha=0.001;, score=-1586.227 total time=   0.0s\n",
      "[CV 5/5] END poly_features__degree=3, poly_features__interaction_only=True, ridge__alpha=0.001;, score=-1506.347 total time=   0.0s\n",
      "[CV 1/5] END poly_features__degree=3, poly_features__interaction_only=True, ridge__alpha=1e-05;, score=-1501.047 total time=   0.0s\n",
      "[CV 2/5] END poly_features__degree=3, poly_features__interaction_only=True, ridge__alpha=1e-05;, score=-1449.577 total time=   0.0s\n"
     ]
    },
    {
     "name": "stderr",
     "output_type": "stream",
     "text": [
      "c:\\Users\\Abhirup Das\\AppData\\Local\\Programs\\Python\\Python312\\Lib\\site-packages\\sklearn\\linear_model\\_ridge.py:216: LinAlgWarning: Ill-conditioned matrix (rcond=1.45007e-43): result may not be accurate.\n",
      "  return linalg.solve(A, Xy, assume_a=\"pos\", overwrite_a=True).T\n",
      "c:\\Users\\Abhirup Das\\AppData\\Local\\Programs\\Python\\Python312\\Lib\\site-packages\\sklearn\\linear_model\\_ridge.py:216: LinAlgWarning: Ill-conditioned matrix (rcond=1.46115e-43): result may not be accurate.\n",
      "  return linalg.solve(A, Xy, assume_a=\"pos\", overwrite_a=True).T\n",
      "c:\\Users\\Abhirup Das\\AppData\\Local\\Programs\\Python\\Python312\\Lib\\site-packages\\sklearn\\linear_model\\_ridge.py:216: LinAlgWarning: Ill-conditioned matrix (rcond=1.44861e-43): result may not be accurate.\n",
      "  return linalg.solve(A, Xy, assume_a=\"pos\", overwrite_a=True).T\n",
      "c:\\Users\\Abhirup Das\\AppData\\Local\\Programs\\Python\\Python312\\Lib\\site-packages\\sklearn\\linear_model\\_ridge.py:216: LinAlgWarning: Ill-conditioned matrix (rcond=1.06207e-46): result may not be accurate.\n",
      "  return linalg.solve(A, Xy, assume_a=\"pos\", overwrite_a=True).T\n",
      "c:\\Users\\Abhirup Das\\AppData\\Local\\Programs\\Python\\Python312\\Lib\\site-packages\\sklearn\\linear_model\\_ridge.py:216: LinAlgWarning: Ill-conditioned matrix (rcond=1.04915e-46): result may not be accurate.\n",
      "  return linalg.solve(A, Xy, assume_a=\"pos\", overwrite_a=True).T\n",
      "c:\\Users\\Abhirup Das\\AppData\\Local\\Programs\\Python\\Python312\\Lib\\site-packages\\sklearn\\linear_model\\_ridge.py:216: LinAlgWarning: Ill-conditioned matrix (rcond=1.06521e-46): result may not be accurate.\n",
      "  return linalg.solve(A, Xy, assume_a=\"pos\", overwrite_a=True).T\n"
     ]
    },
    {
     "name": "stdout",
     "output_type": "stream",
     "text": [
      "[CV 3/5] END poly_features__degree=3, poly_features__interaction_only=True, ridge__alpha=1e-05;, score=-1479.202 total time=   0.0s\n",
      "[CV 4/5] END poly_features__degree=3, poly_features__interaction_only=True, ridge__alpha=1e-05;, score=-1586.602 total time=   0.0s\n",
      "[CV 5/5] END poly_features__degree=3, poly_features__interaction_only=True, ridge__alpha=1e-05;, score=-1503.044 total time=   0.0s\n",
      "[CV 1/5] END poly_features__degree=4, poly_features__interaction_only=True, ridge__alpha=1;, score=-596.462 total time=   0.0s\n",
      "[CV 2/5] END poly_features__degree=4, poly_features__interaction_only=True, ridge__alpha=1;, score=-546.613 total time=   0.0s\n",
      "[CV 3/5] END poly_features__degree=4, poly_features__interaction_only=True, ridge__alpha=1;, score=-575.047 total time=   0.0s\n"
     ]
    },
    {
     "name": "stderr",
     "output_type": "stream",
     "text": [
      "c:\\Users\\Abhirup Das\\AppData\\Local\\Programs\\Python\\Python312\\Lib\\site-packages\\sklearn\\linear_model\\_ridge.py:216: LinAlgWarning: Ill-conditioned matrix (rcond=1.07402e-46): result may not be accurate.\n",
      "  return linalg.solve(A, Xy, assume_a=\"pos\", overwrite_a=True).T\n",
      "c:\\Users\\Abhirup Das\\AppData\\Local\\Programs\\Python\\Python312\\Lib\\site-packages\\sklearn\\linear_model\\_ridge.py:216: LinAlgWarning: Ill-conditioned matrix (rcond=1.06393e-46): result may not be accurate.\n",
      "  return linalg.solve(A, Xy, assume_a=\"pos\", overwrite_a=True).T\n",
      "c:\\Users\\Abhirup Das\\AppData\\Local\\Programs\\Python\\Python312\\Lib\\site-packages\\sklearn\\linear_model\\_ridge.py:216: LinAlgWarning: Ill-conditioned matrix (rcond=1.07205e-47): result may not be accurate.\n",
      "  return linalg.solve(A, Xy, assume_a=\"pos\", overwrite_a=True).T\n",
      "c:\\Users\\Abhirup Das\\AppData\\Local\\Programs\\Python\\Python312\\Lib\\site-packages\\sklearn\\linear_model\\_ridge.py:216: LinAlgWarning: Ill-conditioned matrix (rcond=1.05921e-47): result may not be accurate.\n",
      "  return linalg.solve(A, Xy, assume_a=\"pos\", overwrite_a=True).T\n",
      "c:\\Users\\Abhirup Das\\AppData\\Local\\Programs\\Python\\Python312\\Lib\\site-packages\\sklearn\\linear_model\\_ridge.py:216: LinAlgWarning: Ill-conditioned matrix (rcond=1.0752e-47): result may not be accurate.\n",
      "  return linalg.solve(A, Xy, assume_a=\"pos\", overwrite_a=True).T\n"
     ]
    },
    {
     "name": "stdout",
     "output_type": "stream",
     "text": [
      "[CV 4/5] END poly_features__degree=4, poly_features__interaction_only=True, ridge__alpha=1;, score=-703.115 total time=   0.0s\n",
      "[CV 5/5] END poly_features__degree=4, poly_features__interaction_only=True, ridge__alpha=1;, score=-551.962 total time=   0.0s\n",
      "[CV 1/5] END poly_features__degree=4, poly_features__interaction_only=True, ridge__alpha=0.1;, score=-579.586 total time=   0.0s\n",
      "[CV 2/5] END poly_features__degree=4, poly_features__interaction_only=True, ridge__alpha=0.1;, score=-530.767 total time=   0.0s\n",
      "[CV 3/5] END poly_features__degree=4, poly_features__interaction_only=True, ridge__alpha=0.1;, score=-558.752 total time=   0.0s\n",
      "[CV 4/5] END poly_features__degree=4, poly_features__interaction_only=True, ridge__alpha=0.1;, score=-690.592 total time=   0.0s\n",
      "[CV 5/5] END poly_features__degree=4, poly_features__interaction_only=True, ridge__alpha=0.1;, score=-534.045 total time=   0.0s\n",
      "[CV 1/5] END poly_features__degree=4, poly_features__interaction_only=True, ridge__alpha=0.001;, score=-546.836 total time=   0.0s\n",
      "[CV 2/5] END poly_features__degree=4, poly_features__interaction_only=True, ridge__alpha=0.001;, score=-501.948 total time=   0.0s\n"
     ]
    },
    {
     "name": "stderr",
     "output_type": "stream",
     "text": [
      "c:\\Users\\Abhirup Das\\AppData\\Local\\Programs\\Python\\Python312\\Lib\\site-packages\\sklearn\\linear_model\\_ridge.py:216: LinAlgWarning: Ill-conditioned matrix (rcond=1.08424e-47): result may not be accurate.\n",
      "  return linalg.solve(A, Xy, assume_a=\"pos\", overwrite_a=True).T\n",
      "c:\\Users\\Abhirup Das\\AppData\\Local\\Programs\\Python\\Python312\\Lib\\site-packages\\sklearn\\linear_model\\_ridge.py:216: LinAlgWarning: Ill-conditioned matrix (rcond=1.07392e-47): result may not be accurate.\n",
      "  return linalg.solve(A, Xy, assume_a=\"pos\", overwrite_a=True).T\n",
      "c:\\Users\\Abhirup Das\\AppData\\Local\\Programs\\Python\\Python312\\Lib\\site-packages\\sklearn\\linear_model\\_ridge.py:216: LinAlgWarning: Ill-conditioned matrix (rcond=9.90848e-50): result may not be accurate.\n",
      "  return linalg.solve(A, Xy, assume_a=\"pos\", overwrite_a=True).T\n",
      "c:\\Users\\Abhirup Das\\AppData\\Local\\Programs\\Python\\Python312\\Lib\\site-packages\\sklearn\\linear_model\\_ridge.py:216: LinAlgWarning: Ill-conditioned matrix (rcond=9.78989e-50): result may not be accurate.\n",
      "  return linalg.solve(A, Xy, assume_a=\"pos\", overwrite_a=True).T\n",
      "c:\\Users\\Abhirup Das\\AppData\\Local\\Programs\\Python\\Python312\\Lib\\site-packages\\sklearn\\linear_model\\_ridge.py:216: LinAlgWarning: Ill-conditioned matrix (rcond=9.93631e-50): result may not be accurate.\n",
      "  return linalg.solve(A, Xy, assume_a=\"pos\", overwrite_a=True).T\n",
      "c:\\Users\\Abhirup Das\\AppData\\Local\\Programs\\Python\\Python312\\Lib\\site-packages\\sklearn\\linear_model\\_ridge.py:216: LinAlgWarning: Ill-conditioned matrix (rcond=1.00192e-49): result may not be accurate.\n",
      "  return linalg.solve(A, Xy, assume_a=\"pos\", overwrite_a=True).T\n",
      "c:\\Users\\Abhirup Das\\AppData\\Local\\Programs\\Python\\Python312\\Lib\\site-packages\\sklearn\\linear_model\\_ridge.py:216: LinAlgWarning: Ill-conditioned matrix (rcond=9.9467e-50): result may not be accurate.\n",
      "  return linalg.solve(A, Xy, assume_a=\"pos\", overwrite_a=True).T\n",
      "c:\\Users\\Abhirup Das\\AppData\\Local\\Programs\\Python\\Python312\\Lib\\site-packages\\sklearn\\linear_model\\_ridge.py:216: LinAlgWarning: Ill-conditioned matrix (rcond=1.07205e-51): result may not be accurate.\n",
      "  return linalg.solve(A, Xy, assume_a=\"pos\", overwrite_a=True).T\n",
      "c:\\Users\\Abhirup Das\\AppData\\Local\\Programs\\Python\\Python312\\Lib\\site-packages\\sklearn\\linear_model\\_ridge.py:216: LinAlgWarning: Ill-conditioned matrix (rcond=1.05921e-51): result may not be accurate.\n",
      "  return linalg.solve(A, Xy, assume_a=\"pos\", overwrite_a=True).T\n"
     ]
    },
    {
     "name": "stdout",
     "output_type": "stream",
     "text": [
      "[CV 3/5] END poly_features__degree=4, poly_features__interaction_only=True, ridge__alpha=0.001;, score=-533.023 total time=   0.0s\n",
      "[CV 4/5] END poly_features__degree=4, poly_features__interaction_only=True, ridge__alpha=0.001;, score=-672.043 total time=   0.0s\n",
      "[CV 5/5] END poly_features__degree=4, poly_features__interaction_only=True, ridge__alpha=0.001;, score=-516.112 total time=   0.0s\n",
      "[CV 1/5] END poly_features__degree=4, poly_features__interaction_only=True, ridge__alpha=1e-05;, score=-532.551 total time=   0.0s\n",
      "[CV 2/5] END poly_features__degree=4, poly_features__interaction_only=True, ridge__alpha=1e-05;, score=-495.846 total time=   0.0s\n"
     ]
    },
    {
     "name": "stderr",
     "output_type": "stream",
     "text": [
      "c:\\Users\\Abhirup Das\\AppData\\Local\\Programs\\Python\\Python312\\Lib\\site-packages\\sklearn\\linear_model\\_ridge.py:216: LinAlgWarning: Ill-conditioned matrix (rcond=1.0752e-51): result may not be accurate.\n",
      "  return linalg.solve(A, Xy, assume_a=\"pos\", overwrite_a=True).T\n",
      "c:\\Users\\Abhirup Das\\AppData\\Local\\Programs\\Python\\Python312\\Lib\\site-packages\\sklearn\\linear_model\\_ridge.py:216: LinAlgWarning: Ill-conditioned matrix (rcond=1.08424e-51): result may not be accurate.\n",
      "  return linalg.solve(A, Xy, assume_a=\"pos\", overwrite_a=True).T\n",
      "c:\\Users\\Abhirup Das\\AppData\\Local\\Programs\\Python\\Python312\\Lib\\site-packages\\sklearn\\linear_model\\_ridge.py:216: LinAlgWarning: Ill-conditioned matrix (rcond=1.07392e-51): result may not be accurate.\n",
      "  return linalg.solve(A, Xy, assume_a=\"pos\", overwrite_a=True).T\n"
     ]
    },
    {
     "name": "stdout",
     "output_type": "stream",
     "text": [
      "[CV 3/5] END poly_features__degree=4, poly_features__interaction_only=True, ridge__alpha=1e-05;, score=-527.062 total time=   0.0s\n",
      "[CV 4/5] END poly_features__degree=4, poly_features__interaction_only=True, ridge__alpha=1e-05;, score=-665.386 total time=   0.0s\n",
      "[CV 5/5] END poly_features__degree=4, poly_features__interaction_only=True, ridge__alpha=1e-05;, score=-512.917 total time=   0.0s\n",
      "[CV 1/5] END poly_features__degree=6, poly_features__interaction_only=True, ridge__alpha=1;, score=-65380.016 total time=   0.5s\n",
      "[CV 2/5] END poly_features__degree=6, poly_features__interaction_only=True, ridge__alpha=1;, score=-203589.154 total time=   0.4s\n",
      "[CV 3/5] END poly_features__degree=6, poly_features__interaction_only=True, ridge__alpha=1;, score=-59247.896 total time=   0.4s\n",
      "[CV 4/5] END poly_features__degree=6, poly_features__interaction_only=True, ridge__alpha=1;, score=-159240.660 total time=   0.4s\n",
      "[CV 5/5] END poly_features__degree=6, poly_features__interaction_only=True, ridge__alpha=1;, score=-38437.957 total time=   0.4s\n",
      "[CV 1/5] END poly_features__degree=6, poly_features__interaction_only=True, ridge__alpha=0.1;, score=-65380.016 total time=   0.4s\n",
      "[CV 2/5] END poly_features__degree=6, poly_features__interaction_only=True, ridge__alpha=0.1;, score=-203589.154 total time=   0.4s\n",
      "[CV 3/5] END poly_features__degree=6, poly_features__interaction_only=True, ridge__alpha=0.1;, score=-59247.896 total time=   0.4s\n",
      "[CV 4/5] END poly_features__degree=6, poly_features__interaction_only=True, ridge__alpha=0.1;, score=-159240.660 total time=   0.4s\n",
      "[CV 5/5] END poly_features__degree=6, poly_features__interaction_only=True, ridge__alpha=0.1;, score=-38437.957 total time=   0.4s\n",
      "[CV 1/5] END poly_features__degree=6, poly_features__interaction_only=True, ridge__alpha=0.001;, score=-65380.016 total time=   0.4s\n",
      "[CV 2/5] END poly_features__degree=6, poly_features__interaction_only=True, ridge__alpha=0.001;, score=-203589.154 total time=   0.5s\n",
      "[CV 3/5] END poly_features__degree=6, poly_features__interaction_only=True, ridge__alpha=0.001;, score=-59247.896 total time=   0.4s\n",
      "[CV 4/5] END poly_features__degree=6, poly_features__interaction_only=True, ridge__alpha=0.001;, score=-159240.660 total time=   0.4s\n",
      "[CV 5/5] END poly_features__degree=6, poly_features__interaction_only=True, ridge__alpha=0.001;, score=-38437.957 total time=   0.5s\n",
      "[CV 1/5] END poly_features__degree=6, poly_features__interaction_only=True, ridge__alpha=1e-05;, score=-65380.016 total time=   0.4s\n",
      "[CV 2/5] END poly_features__degree=6, poly_features__interaction_only=True, ridge__alpha=1e-05;, score=-203589.154 total time=   0.4s\n",
      "[CV 3/5] END poly_features__degree=6, poly_features__interaction_only=True, ridge__alpha=1e-05;, score=-59247.896 total time=   0.4s\n",
      "[CV 4/5] END poly_features__degree=6, poly_features__interaction_only=True, ridge__alpha=1e-05;, score=-159240.660 total time=   0.4s\n",
      "[CV 5/5] END poly_features__degree=6, poly_features__interaction_only=True, ridge__alpha=1e-05;, score=-38437.957 total time=   0.5s\n",
      "[CV 1/5] END poly_features__degree=10, poly_features__interaction_only=True, ridge__alpha=1;, score=-46836.537 total time=   0.6s\n",
      "[CV 2/5] END poly_features__degree=10, poly_features__interaction_only=True, ridge__alpha=1;, score=-9304.715 total time=   0.6s\n",
      "[CV 3/5] END poly_features__degree=10, poly_features__interaction_only=True, ridge__alpha=1;, score=-13234.003 total time=   0.6s\n",
      "[CV 4/5] END poly_features__degree=10, poly_features__interaction_only=True, ridge__alpha=1;, score=-216315.341 total time=   0.7s\n",
      "[CV 5/5] END poly_features__degree=10, poly_features__interaction_only=True, ridge__alpha=1;, score=-33410.652 total time=   0.6s\n",
      "[CV 1/5] END poly_features__degree=10, poly_features__interaction_only=True, ridge__alpha=0.1;, score=-46836.537 total time=   0.6s\n",
      "[CV 2/5] END poly_features__degree=10, poly_features__interaction_only=True, ridge__alpha=0.1;, score=-9304.715 total time=   0.6s\n",
      "[CV 3/5] END poly_features__degree=10, poly_features__interaction_only=True, ridge__alpha=0.1;, score=-13234.003 total time=   0.7s\n",
      "[CV 4/5] END poly_features__degree=10, poly_features__interaction_only=True, ridge__alpha=0.1;, score=-216315.341 total time=   0.7s\n",
      "[CV 5/5] END poly_features__degree=10, poly_features__interaction_only=True, ridge__alpha=0.1;, score=-33410.652 total time=   0.8s\n",
      "[CV 1/5] END poly_features__degree=10, poly_features__interaction_only=True, ridge__alpha=0.001;, score=-46836.537 total time=   0.7s\n",
      "[CV 2/5] END poly_features__degree=10, poly_features__interaction_only=True, ridge__alpha=0.001;, score=-9304.715 total time=   0.6s\n",
      "[CV 3/5] END poly_features__degree=10, poly_features__interaction_only=True, ridge__alpha=0.001;, score=-13234.003 total time=   0.6s\n",
      "[CV 4/5] END poly_features__degree=10, poly_features__interaction_only=True, ridge__alpha=0.001;, score=-216315.341 total time=   0.6s\n",
      "[CV 5/5] END poly_features__degree=10, poly_features__interaction_only=True, ridge__alpha=0.001;, score=-33410.652 total time=   0.6s\n",
      "[CV 1/5] END poly_features__degree=10, poly_features__interaction_only=True, ridge__alpha=1e-05;, score=-46836.537 total time=   0.7s\n",
      "[CV 2/5] END poly_features__degree=10, poly_features__interaction_only=True, ridge__alpha=1e-05;, score=-9304.715 total time=   0.7s\n",
      "[CV 3/5] END poly_features__degree=10, poly_features__interaction_only=True, ridge__alpha=1e-05;, score=-13234.003 total time=   0.7s\n",
      "[CV 4/5] END poly_features__degree=10, poly_features__interaction_only=True, ridge__alpha=1e-05;, score=-216315.341 total time=   0.7s\n",
      "[CV 5/5] END poly_features__degree=10, poly_features__interaction_only=True, ridge__alpha=1e-05;, score=-33410.652 total time=   0.7s\n",
      "Best Parameters: {'poly_features__degree': 4, 'poly_features__interaction_only': True, 'ridge__alpha': 1e-05}\n",
      "Best Cross-validation Score: -546.7522881175666\n",
      "MSE -> 521.9055407896136\n"
     ]
    },
    {
     "name": "stderr",
     "output_type": "stream",
     "text": [
      "c:\\Users\\Abhirup Das\\AppData\\Local\\Programs\\Python\\Python312\\Lib\\site-packages\\sklearn\\linear_model\\_ridge.py:216: LinAlgWarning: Ill-conditioned matrix (rcond=8.42716e-52): result may not be accurate.\n",
      "  return linalg.solve(A, Xy, assume_a=\"pos\", overwrite_a=True).T\n"
     ]
    }
   ],
   "source": [
    "from sklearn.linear_model import Ridge\n",
    "\n",
    "data_set = Helper.load_data()\n",
    "data_set = Helper.proc_data(data_set, del_columns = ['DATE'])\n",
    "data_set.head()\n",
    "\n",
    "x_train, x_test, y_train, y_test = Helper.split_data(data_set, 'GDP')\n",
    "\n",
    "def perform_polyReg(x_train, x_test, y_train, y_test):\n",
    "    model = Pipeline([\n",
    "        ('poly_features', PolynomialFeatures()),  # Polynomial Feature Generator\n",
    "        ('ridge', Ridge())  # Linear regression\n",
    "    ])\n",
    "\n",
    "    parameters = {\n",
    "        'poly_features__degree': [2, 3, 4, 6, 10],\n",
    "        'poly_features__interaction_only': [True],\n",
    "        'ridge__alpha': [1, 0.1, 0.001, 0.00001]\n",
    "    }\n",
    "\n",
    "    Helper.Grid_Search(model, x_train, y_train, x_test, y_test, parameters)\n",
    "\n",
    "perform_polyReg(x_train, x_test, y_train, y_test)"
   ]
  },
  {
   "cell_type": "code",
   "execution_count": 29,
   "metadata": {},
   "outputs": [
    {
     "name": "stdout",
     "output_type": "stream",
     "text": [
      "Fitting 5 folds for each of 9 candidates, totalling 45 fits\n",
      "[CV 1/5] END lasso__alpha=1, poly_features__degree=4, poly_features__interaction_only=True;, score=-9508.756 total time= 1.1min\n",
      "[CV 2/5] END lasso__alpha=1, poly_features__degree=4, poly_features__interaction_only=True;, score=-9209.115 total time= 1.4min\n",
      "[CV 3/5] END lasso__alpha=1, poly_features__degree=4, poly_features__interaction_only=True;, score=-9328.101 total time= 3.1min\n",
      "[CV 4/5] END lasso__alpha=1, poly_features__degree=4, poly_features__interaction_only=True;, score=-8286.003 total time= 2.0min\n",
      "[CV 5/5] END lasso__alpha=1, poly_features__degree=4, poly_features__interaction_only=True;, score=-8388.473 total time= 1.2min\n",
      "[CV 1/5] END lasso__alpha=1, poly_features__degree=6, poly_features__interaction_only=True;, score=-8916.354 total time= 3.7min\n",
      "[CV 2/5] END lasso__alpha=1, poly_features__degree=6, poly_features__interaction_only=True;, score=-9220.109 total time= 2.7min\n",
      "[CV 3/5] END lasso__alpha=1, poly_features__degree=6, poly_features__interaction_only=True;, score=-9342.903 total time= 1.8min\n",
      "[CV 4/5] END lasso__alpha=1, poly_features__degree=6, poly_features__interaction_only=True;, score=-8146.698 total time= 2.6min\n",
      "[CV 5/5] END lasso__alpha=1, poly_features__degree=6, poly_features__interaction_only=True;, score=-8486.185 total time= 2.9min\n"
     ]
    },
    {
     "name": "stderr",
     "output_type": "stream",
     "text": [
      "c:\\Users\\Abhirup Das\\AppData\\Local\\Programs\\Python\\Python312\\Lib\\site-packages\\sklearn\\linear_model\\_coordinate_descent.py:697: ConvergenceWarning: Objective did not converge. You might want to increase the number of iterations, check the scale of the features or consider increasing regularisation. Duality gap: 1.052e+08, tolerance: 6.442e+07\n",
      "  model = cd_fast.enet_coordinate_descent(\n"
     ]
    },
    {
     "name": "stdout",
     "output_type": "stream",
     "text": [
      "[CV 1/5] END lasso__alpha=1, poly_features__degree=2, poly_features__interaction_only=True;, score=-16284.395 total time=   5.9s\n"
     ]
    },
    {
     "name": "stderr",
     "output_type": "stream",
     "text": [
      "c:\\Users\\Abhirup Das\\AppData\\Local\\Programs\\Python\\Python312\\Lib\\site-packages\\sklearn\\linear_model\\_coordinate_descent.py:697: ConvergenceWarning: Objective did not converge. You might want to increase the number of iterations, check the scale of the features or consider increasing regularisation. Duality gap: 1.059e+08, tolerance: 6.482e+07\n",
      "  model = cd_fast.enet_coordinate_descent(\n"
     ]
    },
    {
     "name": "stdout",
     "output_type": "stream",
     "text": [
      "[CV 2/5] END lasso__alpha=1, poly_features__degree=2, poly_features__interaction_only=True;, score=-16305.154 total time=   5.9s\n"
     ]
    },
    {
     "name": "stderr",
     "output_type": "stream",
     "text": [
      "c:\\Users\\Abhirup Das\\AppData\\Local\\Programs\\Python\\Python312\\Lib\\site-packages\\sklearn\\linear_model\\_coordinate_descent.py:697: ConvergenceWarning: Objective did not converge. You might want to increase the number of iterations, check the scale of the features or consider increasing regularisation. Duality gap: 1.057e+08, tolerance: 6.461e+07\n",
      "  model = cd_fast.enet_coordinate_descent(\n"
     ]
    },
    {
     "name": "stdout",
     "output_type": "stream",
     "text": [
      "[CV 3/5] END lasso__alpha=1, poly_features__degree=2, poly_features__interaction_only=True;, score=-16637.254 total time=   5.9s\n"
     ]
    },
    {
     "name": "stderr",
     "output_type": "stream",
     "text": [
      "c:\\Users\\Abhirup Das\\AppData\\Local\\Programs\\Python\\Python312\\Lib\\site-packages\\sklearn\\linear_model\\_coordinate_descent.py:697: ConvergenceWarning: Objective did not converge. You might want to increase the number of iterations, check the scale of the features or consider increasing regularisation. Duality gap: 1.057e+08, tolerance: 6.413e+07\n",
      "  model = cd_fast.enet_coordinate_descent(\n"
     ]
    },
    {
     "name": "stdout",
     "output_type": "stream",
     "text": [
      "[CV 4/5] END lasso__alpha=1, poly_features__degree=2, poly_features__interaction_only=True;, score=-16798.434 total time=   6.0s\n"
     ]
    },
    {
     "name": "stderr",
     "output_type": "stream",
     "text": [
      "c:\\Users\\Abhirup Das\\AppData\\Local\\Programs\\Python\\Python312\\Lib\\site-packages\\sklearn\\linear_model\\_coordinate_descent.py:697: ConvergenceWarning: Objective did not converge. You might want to increase the number of iterations, check the scale of the features or consider increasing regularisation. Duality gap: 1.067e+08, tolerance: 6.460e+07\n",
      "  model = cd_fast.enet_coordinate_descent(\n"
     ]
    },
    {
     "name": "stdout",
     "output_type": "stream",
     "text": [
      "[CV 5/5] END lasso__alpha=1, poly_features__degree=2, poly_features__interaction_only=True;, score=-15523.966 total time=   5.9s\n",
      "[CV 1/5] END lasso__alpha=0.001, poly_features__degree=4, poly_features__interaction_only=True;, score=-9602.735 total time= 1.6min\n",
      "[CV 2/5] END lasso__alpha=0.001, poly_features__degree=4, poly_features__interaction_only=True;, score=-9283.771 total time= 1.4min\n",
      "[CV 3/5] END lasso__alpha=0.001, poly_features__degree=4, poly_features__interaction_only=True;, score=-9373.071 total time=  34.8s\n",
      "[CV 4/5] END lasso__alpha=0.001, poly_features__degree=4, poly_features__interaction_only=True;, score=-8473.286 total time= 2.0min\n",
      "[CV 5/5] END lasso__alpha=0.001, poly_features__degree=4, poly_features__interaction_only=True;, score=-8483.467 total time= 1.1min\n",
      "[CV 1/5] END lasso__alpha=0.001, poly_features__degree=6, poly_features__interaction_only=True;, score=-8983.319 total time= 2.5min\n",
      "[CV 2/5] END lasso__alpha=0.001, poly_features__degree=6, poly_features__interaction_only=True;, score=-9275.595 total time= 1.7min\n",
      "[CV 3/5] END lasso__alpha=0.001, poly_features__degree=6, poly_features__interaction_only=True;, score=-9357.651 total time= 2.6min\n",
      "[CV 4/5] END lasso__alpha=0.001, poly_features__degree=6, poly_features__interaction_only=True;, score=-8302.327 total time= 2.7min\n",
      "[CV 5/5] END lasso__alpha=0.001, poly_features__degree=6, poly_features__interaction_only=True;, score=-8566.487 total time= 1.7min\n"
     ]
    },
    {
     "name": "stderr",
     "output_type": "stream",
     "text": [
      "c:\\Users\\Abhirup Das\\AppData\\Local\\Programs\\Python\\Python312\\Lib\\site-packages\\sklearn\\linear_model\\_coordinate_descent.py:697: ConvergenceWarning: Objective did not converge. You might want to increase the number of iterations, check the scale of the features or consider increasing regularisation. Duality gap: 9.200e+07, tolerance: 6.442e+07\n",
      "  model = cd_fast.enet_coordinate_descent(\n"
     ]
    },
    {
     "name": "stdout",
     "output_type": "stream",
     "text": [
      "[CV 1/5] END lasso__alpha=0.001, poly_features__degree=2, poly_features__interaction_only=True;, score=-15798.113 total time=  21.0s\n"
     ]
    },
    {
     "name": "stderr",
     "output_type": "stream",
     "text": [
      "c:\\Users\\Abhirup Das\\AppData\\Local\\Programs\\Python\\Python312\\Lib\\site-packages\\sklearn\\linear_model\\_coordinate_descent.py:697: ConvergenceWarning: Objective did not converge. You might want to increase the number of iterations, check the scale of the features or consider increasing regularisation. Duality gap: 9.287e+07, tolerance: 6.482e+07\n",
      "  model = cd_fast.enet_coordinate_descent(\n"
     ]
    },
    {
     "name": "stdout",
     "output_type": "stream",
     "text": [
      "[CV 2/5] END lasso__alpha=0.001, poly_features__degree=2, poly_features__interaction_only=True;, score=-15610.282 total time=  20.3s\n"
     ]
    },
    {
     "name": "stderr",
     "output_type": "stream",
     "text": [
      "c:\\Users\\Abhirup Das\\AppData\\Local\\Programs\\Python\\Python312\\Lib\\site-packages\\sklearn\\linear_model\\_coordinate_descent.py:697: ConvergenceWarning: Objective did not converge. You might want to increase the number of iterations, check the scale of the features or consider increasing regularisation. Duality gap: 9.245e+07, tolerance: 6.461e+07\n",
      "  model = cd_fast.enet_coordinate_descent(\n"
     ]
    },
    {
     "name": "stdout",
     "output_type": "stream",
     "text": [
      "[CV 3/5] END lasso__alpha=0.001, poly_features__degree=2, poly_features__interaction_only=True;, score=-16019.547 total time=  21.1s\n"
     ]
    },
    {
     "name": "stderr",
     "output_type": "stream",
     "text": [
      "c:\\Users\\Abhirup Das\\AppData\\Local\\Programs\\Python\\Python312\\Lib\\site-packages\\sklearn\\linear_model\\_coordinate_descent.py:697: ConvergenceWarning: Objective did not converge. You might want to increase the number of iterations, check the scale of the features or consider increasing regularisation. Duality gap: 9.246e+07, tolerance: 6.413e+07\n",
      "  model = cd_fast.enet_coordinate_descent(\n"
     ]
    },
    {
     "name": "stdout",
     "output_type": "stream",
     "text": [
      "[CV 4/5] END lasso__alpha=0.001, poly_features__degree=2, poly_features__interaction_only=True;, score=-16171.820 total time=  21.9s\n"
     ]
    },
    {
     "name": "stderr",
     "output_type": "stream",
     "text": [
      "c:\\Users\\Abhirup Das\\AppData\\Local\\Programs\\Python\\Python312\\Lib\\site-packages\\sklearn\\linear_model\\_coordinate_descent.py:697: ConvergenceWarning: Objective did not converge. You might want to increase the number of iterations, check the scale of the features or consider increasing regularisation. Duality gap: 9.367e+07, tolerance: 6.460e+07\n",
      "  model = cd_fast.enet_coordinate_descent(\n"
     ]
    },
    {
     "name": "stdout",
     "output_type": "stream",
     "text": [
      "[CV 5/5] END lasso__alpha=0.001, poly_features__degree=2, poly_features__interaction_only=True;, score=-14852.018 total time=  18.2s\n",
      "[CV 1/5] END lasso__alpha=1e-05, poly_features__degree=4, poly_features__interaction_only=True;, score=-9603.576 total time=  57.6s\n",
      "[CV 2/5] END lasso__alpha=1e-05, poly_features__degree=4, poly_features__interaction_only=True;, score=-9284.295 total time= 1.7min\n",
      "[CV 3/5] END lasso__alpha=1e-05, poly_features__degree=4, poly_features__interaction_only=True;, score=-9373.617 total time= 1.7min\n",
      "[CV 4/5] END lasso__alpha=1e-05, poly_features__degree=4, poly_features__interaction_only=True;, score=-8474.327 total time=  34.7s\n",
      "[CV 5/5] END lasso__alpha=1e-05, poly_features__degree=4, poly_features__interaction_only=True;, score=-8484.034 total time= 1.8min\n",
      "[CV 1/5] END lasso__alpha=1e-05, poly_features__degree=6, poly_features__interaction_only=True;, score=-8983.820 total time= 1.7min\n",
      "[CV 2/5] END lasso__alpha=1e-05, poly_features__degree=6, poly_features__interaction_only=True;, score=-9275.910 total time= 3.0min\n",
      "[CV 3/5] END lasso__alpha=1e-05, poly_features__degree=6, poly_features__interaction_only=True;, score=-9357.915 total time= 2.3min\n",
      "[CV 4/5] END lasso__alpha=1e-05, poly_features__degree=6, poly_features__interaction_only=True;, score=-8302.997 total time= 1.7min\n",
      "[CV 5/5] END lasso__alpha=1e-05, poly_features__degree=6, poly_features__interaction_only=True;, score=-8566.847 total time= 2.9min\n"
     ]
    },
    {
     "name": "stderr",
     "output_type": "stream",
     "text": [
      "c:\\Users\\Abhirup Das\\AppData\\Local\\Programs\\Python\\Python312\\Lib\\site-packages\\sklearn\\linear_model\\_coordinate_descent.py:697: ConvergenceWarning: Objective did not converge. You might want to increase the number of iterations, check the scale of the features or consider increasing regularisation. Duality gap: 9.199e+07, tolerance: 6.442e+07\n",
      "  model = cd_fast.enet_coordinate_descent(\n"
     ]
    },
    {
     "name": "stdout",
     "output_type": "stream",
     "text": [
      "[CV 1/5] END lasso__alpha=1e-05, poly_features__degree=2, poly_features__interaction_only=True;, score=-15798.927 total time=   6.0s\n"
     ]
    },
    {
     "name": "stderr",
     "output_type": "stream",
     "text": [
      "c:\\Users\\Abhirup Das\\AppData\\Local\\Programs\\Python\\Python312\\Lib\\site-packages\\sklearn\\linear_model\\_coordinate_descent.py:697: ConvergenceWarning: Objective did not converge. You might want to increase the number of iterations, check the scale of the features or consider increasing regularisation. Duality gap: 9.286e+07, tolerance: 6.482e+07\n",
      "  model = cd_fast.enet_coordinate_descent(\n"
     ]
    },
    {
     "name": "stdout",
     "output_type": "stream",
     "text": [
      "[CV 2/5] END lasso__alpha=1e-05, poly_features__degree=2, poly_features__interaction_only=True;, score=-15610.595 total time=   6.0s\n"
     ]
    },
    {
     "name": "stderr",
     "output_type": "stream",
     "text": [
      "c:\\Users\\Abhirup Das\\AppData\\Local\\Programs\\Python\\Python312\\Lib\\site-packages\\sklearn\\linear_model\\_coordinate_descent.py:697: ConvergenceWarning: Objective did not converge. You might want to increase the number of iterations, check the scale of the features or consider increasing regularisation. Duality gap: 9.244e+07, tolerance: 6.461e+07\n",
      "  model = cd_fast.enet_coordinate_descent(\n"
     ]
    },
    {
     "name": "stdout",
     "output_type": "stream",
     "text": [
      "[CV 3/5] END lasso__alpha=1e-05, poly_features__degree=2, poly_features__interaction_only=True;, score=-16019.322 total time=   6.0s\n"
     ]
    },
    {
     "name": "stderr",
     "output_type": "stream",
     "text": [
      "c:\\Users\\Abhirup Das\\AppData\\Local\\Programs\\Python\\Python312\\Lib\\site-packages\\sklearn\\linear_model\\_coordinate_descent.py:697: ConvergenceWarning: Objective did not converge. You might want to increase the number of iterations, check the scale of the features or consider increasing regularisation. Duality gap: 9.245e+07, tolerance: 6.413e+07\n",
      "  model = cd_fast.enet_coordinate_descent(\n"
     ]
    },
    {
     "name": "stdout",
     "output_type": "stream",
     "text": [
      "[CV 4/5] END lasso__alpha=1e-05, poly_features__degree=2, poly_features__interaction_only=True;, score=-16171.869 total time=   6.0s\n"
     ]
    },
    {
     "name": "stderr",
     "output_type": "stream",
     "text": [
      "c:\\Users\\Abhirup Das\\AppData\\Local\\Programs\\Python\\Python312\\Lib\\site-packages\\sklearn\\linear_model\\_coordinate_descent.py:697: ConvergenceWarning: Objective did not converge. You might want to increase the number of iterations, check the scale of the features or consider increasing regularisation. Duality gap: 9.366e+07, tolerance: 6.460e+07\n",
      "  model = cd_fast.enet_coordinate_descent(\n"
     ]
    },
    {
     "name": "stdout",
     "output_type": "stream",
     "text": [
      "[CV 5/5] END lasso__alpha=1e-05, poly_features__degree=2, poly_features__interaction_only=True;, score=-14852.237 total time=   6.0s\n",
      "Best Parameters: {'lasso__alpha': 1, 'poly_features__degree': 6, 'poly_features__interaction_only': True}\n",
      "Best Cross-validation Score: -8822.449730004015\n",
      "MSE -> 9374.752953508336\n"
     ]
    }
   ],
   "source": [
    "from sklearn.linear_model import Lasso\n",
    "\n",
    "data_set = Helper.load_data()\n",
    "data_set = Helper.proc_data(data_set, del_columns = ['DATE'])\n",
    "data_set.head()\n",
    "\n",
    "x_train, x_test, y_train, y_test = Helper.split_data(data_set, 'GDP')\n",
    "\n",
    "def perform_polyReg(x_train, x_test, y_train, y_test):\n",
    "    model = Pipeline([\n",
    "        ('poly_features', PolynomialFeatures()),  # Polynomial Feature Generator\n",
    "        ('lasso', Lasso(max_iter = 1000))  # Linear regression\n",
    "    ])\n",
    "\n",
    "    parameters = {\n",
    "        'poly_features__degree': [4, 6, 2],\n",
    "        'poly_features__interaction_only': [True],\n",
    "        'lasso__alpha': [1, 0.001, 0.00001]\n",
    "    }\n",
    "\n",
    "    Helper.Grid_Search(model, x_train, y_train, x_test, y_test, parameters)\n",
    "\n",
    "perform_polyReg(x_train, x_test, y_train, y_test)"
   ]
  },
  {
   "cell_type": "code",
   "execution_count": 30,
   "metadata": {},
   "outputs": [
    {
     "name": "stdout",
     "output_type": "stream",
     "text": [
      "MSE -> 7526.218379532527\n"
     ]
    }
   ],
   "source": [
    "fine_tune_model = Pipeline([\n",
    "                    ('poly_features', PolynomialFeatures(degree=10, interaction_only=True)),  # Polynomial Feature Generator\n",
    "                    ('linear_regression', Lasso(max_iter=5000))  # Linear regression\n",
    "                ])\n",
    "\n",
    "fine_tune_model.fit(x_train, y_train)\n",
    "\n",
    "y_pred = fine_tune_model.predict(x_test)\n",
    "\n",
    "mse = mean_squared_error(y_test, y_pred)\n",
    "print(f\"MSE -> {mse}\")"
   ]
  },
  {
   "cell_type": "code",
   "execution_count": 31,
   "metadata": {},
   "outputs": [
    {
     "name": "stdout",
     "output_type": "stream",
     "text": [
      "MSE -> 7526.218379532527\n"
     ]
    }
   ],
   "source": [
    "fine_tune_model = Pipeline([\n",
    "                    ('poly_features', PolynomialFeatures(degree=20, interaction_only=True)),  # Polynomial Feature Generator\n",
    "                    ('linear_regression', Lasso(max_iter=5000))  # Linear regression\n",
    "                ])\n",
    "\n",
    "fine_tune_model.fit(x_train, y_train)\n",
    "\n",
    "y_pred = fine_tune_model.predict(x_test)\n",
    "\n",
    "mse = mean_squared_error(y_test, y_pred)\n",
    "print(f\"MSE -> {mse}\")"
   ]
  },
  {
   "cell_type": "markdown",
   "metadata": {},
   "source": [
    "## Training model on new dataset using best features from EDA"
   ]
  },
  {
   "cell_type": "code",
   "execution_count": 1,
   "metadata": {},
   "outputs": [],
   "source": [
    "from sklearn.preprocessing import PolynomialFeatures\n",
    "from sklearn.linear_model import LinearRegression\n",
    "from sklearn.pipeline import Pipeline\n",
    "from sklearn.metrics import mean_squared_error\n",
    "\n",
    "def perform_polyReg(x_train, x_test, y_train, y_test):\n",
    "    model = Pipeline([\n",
    "        ('poly_features', PolynomialFeatures()),  # Polynomial Feature Generator\n",
    "        ('linear_regression', LinearRegression())  # Linear regression\n",
    "    ])\n",
    "\n",
    "    parameters = {\n",
    "        'poly_features__degree': [4, 6, 8],\n",
    "        'poly_features__interaction_only': [True, False],\n",
    "        'linear_regression__fit_intercept': [True, False]\n",
    "    }\n",
    "\n",
    "    Helper.Grid_Search(model, x_train, y_train, x_test, y_test, parameters)"
   ]
  },
  {
   "cell_type": "code",
   "execution_count": 2,
   "metadata": {},
   "outputs": [],
   "source": [
    "import Helper\n",
    "best_features = [\n",
    "    'GDP',\n",
    "    'USTRADE', \n",
    "    'CPIAUCSL', \n",
    "    'GFDEBTN', \n",
    "    'INDPRO', \n",
    "    'M2SL', \n",
    "    'POPTHM', \n",
    "    'Real_Estate_Loans_All_Commercial_Banks_Daily', \n",
    "    'Real_Personal_Consumption_Expenditures_Daily', \n",
    "    'Real_Government_Consumption_Expenditures_and_Gross_Investment', \n",
    "    'Real_Gross_Private_Domestic_Investment', \n",
    "    'Real_Final_Sales_to_Private_Domestic_Purchasers_Daily', \n",
    "    'Real_Disposable_Personal_Income_Daily', \n",
    "    'Personal_Consumption_Expenditures_Durable_Goods_Daily', \n",
    "    'Domestic_Nonfinancial_Sectors_Debt_Securities_and_Loans_Liability_Level_Daily', \n",
    "    'All_Employees_Total_Nonfarm_Daily', \n",
    "    'Commercial_and_Industrial_Loans_All_Commercial_Banks_Daily'\n",
    "]\n",
    "\n",
    "data_set = Helper.load_data('Linear1','../Datasets/Final Datasets/')\n",
    "data_set = Helper.proc_data(data_set, del_columns = ['DATE'])\n",
    "data_set = data_set[best_features]\n",
    "\n",
    "x_train, x_test, y_train, y_test = Helper.split_data(data_set, 'GDP')"
   ]
  },
  {
   "cell_type": "code",
   "execution_count": 3,
   "metadata": {},
   "outputs": [
    {
     "name": "stdout",
     "output_type": "stream",
     "text": [
      "Fitting 5 folds for each of 20 candidates, totalling 100 fits\n",
      "[CV 1/5] END linear_regression__fit_intercept=True, poly_features__degree=2, poly_features__interaction_only=True;, score=-129.848 total time=   0.0s\n",
      "[CV 2/5] END linear_regression__fit_intercept=True, poly_features__degree=2, poly_features__interaction_only=True;, score=-152.914 total time=   0.0s\n",
      "[CV 3/5] END linear_regression__fit_intercept=True, poly_features__degree=2, poly_features__interaction_only=True;, score=-160.194 total time=   0.0s\n",
      "[CV 4/5] END linear_regression__fit_intercept=True, poly_features__degree=2, poly_features__interaction_only=True;, score=-150.291 total time=   0.0s\n",
      "[CV 5/5] END linear_regression__fit_intercept=True, poly_features__degree=2, poly_features__interaction_only=True;, score=-147.315 total time=   0.0s\n",
      "[CV 1/5] END linear_regression__fit_intercept=True, poly_features__degree=2, poly_features__interaction_only=False;, score=-104.282 total time=   0.0s\n",
      "[CV 2/5] END linear_regression__fit_intercept=True, poly_features__degree=2, poly_features__interaction_only=False;, score=-108.340 total time=   0.0s\n",
      "[CV 3/5] END linear_regression__fit_intercept=True, poly_features__degree=2, poly_features__interaction_only=False;, score=-120.893 total time=   0.0s\n",
      "[CV 4/5] END linear_regression__fit_intercept=True, poly_features__degree=2, poly_features__interaction_only=False;, score=-114.716 total time=   0.0s\n",
      "[CV 5/5] END linear_regression__fit_intercept=True, poly_features__degree=2, poly_features__interaction_only=False;, score=-113.313 total time=   0.0s\n",
      "[CV 1/5] END linear_regression__fit_intercept=True, poly_features__degree=3, poly_features__interaction_only=True;, score=-3.158 total time=   0.6s\n",
      "[CV 2/5] END linear_regression__fit_intercept=True, poly_features__degree=3, poly_features__interaction_only=True;, score=-1.255 total time=   0.7s\n",
      "[CV 3/5] END linear_regression__fit_intercept=True, poly_features__degree=3, poly_features__interaction_only=True;, score=-2.342 total time=   0.6s\n",
      "[CV 4/5] END linear_regression__fit_intercept=True, poly_features__degree=3, poly_features__interaction_only=True;, score=-0.886 total time=   0.7s\n",
      "[CV 5/5] END linear_regression__fit_intercept=True, poly_features__degree=3, poly_features__interaction_only=True;, score=-0.957 total time=   0.6s\n",
      "[CV 1/5] END linear_regression__fit_intercept=True, poly_features__degree=3, poly_features__interaction_only=False;, score=-8.659 total time=   1.1s\n",
      "[CV 2/5] END linear_regression__fit_intercept=True, poly_features__degree=3, poly_features__interaction_only=False;, score=-14.854 total time=   1.2s\n",
      "[CV 3/5] END linear_regression__fit_intercept=True, poly_features__degree=3, poly_features__interaction_only=False;, score=-14.868 total time=   1.1s\n",
      "[CV 4/5] END linear_regression__fit_intercept=True, poly_features__degree=3, poly_features__interaction_only=False;, score=-12.540 total time=   1.1s\n",
      "[CV 5/5] END linear_regression__fit_intercept=True, poly_features__degree=3, poly_features__interaction_only=False;, score=-14.848 total time=   1.1s\n",
      "[CV 1/5] END linear_regression__fit_intercept=True, poly_features__degree=4, poly_features__interaction_only=True;, score=-0.030 total time=   6.1s\n",
      "[CV 2/5] END linear_regression__fit_intercept=True, poly_features__degree=4, poly_features__interaction_only=True;, score=-0.372 total time=   6.0s\n",
      "[CV 3/5] END linear_regression__fit_intercept=True, poly_features__degree=4, poly_features__interaction_only=True;, score=-0.380 total time=   6.1s\n",
      "[CV 4/5] END linear_regression__fit_intercept=True, poly_features__degree=4, poly_features__interaction_only=True;, score=-0.487 total time=   6.1s\n",
      "[CV 5/5] END linear_regression__fit_intercept=True, poly_features__degree=4, poly_features__interaction_only=True;, score=-0.545 total time=   6.1s\n",
      "[CV 1/5] END linear_regression__fit_intercept=True, poly_features__degree=4, poly_features__interaction_only=False;, score=-16.935 total time=  25.3s\n",
      "[CV 2/5] END linear_regression__fit_intercept=True, poly_features__degree=4, poly_features__interaction_only=False;, score=-26.560 total time=  23.9s\n",
      "[CV 3/5] END linear_regression__fit_intercept=True, poly_features__degree=4, poly_features__interaction_only=False;, score=-26.772 total time=  24.4s\n",
      "[CV 4/5] END linear_regression__fit_intercept=True, poly_features__degree=4, poly_features__interaction_only=False;, score=-19.535 total time=  24.1s\n",
      "[CV 5/5] END linear_regression__fit_intercept=True, poly_features__degree=4, poly_features__interaction_only=False;, score=-36.625 total time=  23.6s\n",
      "[CV 1/5] END linear_regression__fit_intercept=True, poly_features__degree=6, poly_features__interaction_only=True;, score=-0.016 total time= 4.8min\n",
      "[CV 2/5] END linear_regression__fit_intercept=True, poly_features__degree=6, poly_features__interaction_only=True;, score=-0.084 total time= 4.8min\n",
      "[CV 3/5] END linear_regression__fit_intercept=True, poly_features__degree=6, poly_features__interaction_only=True;, score=-0.035 total time= 4.8min\n",
      "[CV 4/5] END linear_regression__fit_intercept=True, poly_features__degree=6, poly_features__interaction_only=True;, score=-0.087 total time= 4.8min\n",
      "[CV 5/5] END linear_regression__fit_intercept=True, poly_features__degree=6, poly_features__interaction_only=True;, score=-0.018 total time= 4.8min\n",
      "[CV 1/5] END linear_regression__fit_intercept=True, poly_features__degree=6, poly_features__interaction_only=False;, score=-557.985 total time=19.0min\n",
      "[CV 2/5] END linear_regression__fit_intercept=True, poly_features__degree=6, poly_features__interaction_only=False;, score=-643.523 total time=19.3min\n",
      "[CV 3/5] END linear_regression__fit_intercept=True, poly_features__degree=6, poly_features__interaction_only=False;, score=-1291.364 total time=21.7min\n",
      "[CV 4/5] END linear_regression__fit_intercept=True, poly_features__degree=6, poly_features__interaction_only=False;, score=-694.592 total time=23.3min\n",
      "[CV 5/5] END linear_regression__fit_intercept=True, poly_features__degree=6, poly_features__interaction_only=False;, score=-621.242 total time=21.0min\n",
      "[CV 1/5] END linear_regression__fit_intercept=True, poly_features__degree=10, poly_features__interaction_only=True;, score=-64.422 total time=14.7min\n",
      "[CV 2/5] END linear_regression__fit_intercept=True, poly_features__degree=10, poly_features__interaction_only=True;, score=-245.903 total time=14.6min\n",
      "[CV 3/5] END linear_regression__fit_intercept=True, poly_features__degree=10, poly_features__interaction_only=True;, score=-168.131 total time=12.8min\n",
      "[CV 4/5] END linear_regression__fit_intercept=True, poly_features__degree=10, poly_features__interaction_only=True;, score=-84.679 total time=13.4min\n",
      "[CV 5/5] END linear_regression__fit_intercept=True, poly_features__degree=10, poly_features__interaction_only=True;, score=-135.488 total time=15.0min\n",
      "[CV 1/5] END linear_regression__fit_intercept=True, poly_features__degree=10, poly_features__interaction_only=False;, score=nan total time=   0.0s\n",
      "[CV 2/5] END linear_regression__fit_intercept=True, poly_features__degree=10, poly_features__interaction_only=False;, score=nan total time=   0.0s\n",
      "[CV 3/5] END linear_regression__fit_intercept=True, poly_features__degree=10, poly_features__interaction_only=False;, score=nan total time=   0.0s\n",
      "[CV 4/5] END linear_regression__fit_intercept=True, poly_features__degree=10, poly_features__interaction_only=False;, score=nan total time=   0.0s\n",
      "[CV 5/5] END linear_regression__fit_intercept=True, poly_features__degree=10, poly_features__interaction_only=False;, score=nan total time=   0.0s\n",
      "[CV 1/5] END linear_regression__fit_intercept=False, poly_features__degree=2, poly_features__interaction_only=True;, score=-133.163 total time=   0.0s\n",
      "[CV 2/5] END linear_regression__fit_intercept=False, poly_features__degree=2, poly_features__interaction_only=True;, score=-139.092 total time=   0.0s\n",
      "[CV 3/5] END linear_regression__fit_intercept=False, poly_features__degree=2, poly_features__interaction_only=True;, score=-143.463 total time=   0.0s\n",
      "[CV 4/5] END linear_regression__fit_intercept=False, poly_features__degree=2, poly_features__interaction_only=True;, score=-144.935 total time=   0.0s\n",
      "[CV 5/5] END linear_regression__fit_intercept=False, poly_features__degree=2, poly_features__interaction_only=True;, score=-145.672 total time=   0.0s\n",
      "[CV 1/5] END linear_regression__fit_intercept=False, poly_features__degree=2, poly_features__interaction_only=False;, score=-195.776 total time=   0.0s\n",
      "[CV 2/5] END linear_regression__fit_intercept=False, poly_features__degree=2, poly_features__interaction_only=False;, score=-284.854 total time=   0.0s\n",
      "[CV 3/5] END linear_regression__fit_intercept=False, poly_features__degree=2, poly_features__interaction_only=False;, score=-350.774 total time=   0.0s\n",
      "[CV 4/5] END linear_regression__fit_intercept=False, poly_features__degree=2, poly_features__interaction_only=False;, score=-258.246 total time=   0.0s\n",
      "[CV 5/5] END linear_regression__fit_intercept=False, poly_features__degree=2, poly_features__interaction_only=False;, score=-251.453 total time=   0.0s\n",
      "[CV 1/5] END linear_regression__fit_intercept=False, poly_features__degree=3, poly_features__interaction_only=True;, score=-5.235 total time=   0.6s\n",
      "[CV 2/5] END linear_regression__fit_intercept=False, poly_features__degree=3, poly_features__interaction_only=True;, score=-2.874 total time=   0.6s\n",
      "[CV 3/5] END linear_regression__fit_intercept=False, poly_features__degree=3, poly_features__interaction_only=True;, score=-1.990 total time=   0.6s\n",
      "[CV 4/5] END linear_regression__fit_intercept=False, poly_features__degree=3, poly_features__interaction_only=True;, score=-1.637 total time=   0.7s\n",
      "[CV 5/5] END linear_regression__fit_intercept=False, poly_features__degree=3, poly_features__interaction_only=True;, score=-3.689 total time=   0.6s\n",
      "[CV 1/5] END linear_regression__fit_intercept=False, poly_features__degree=3, poly_features__interaction_only=False;, score=-10.060 total time=   1.1s\n",
      "[CV 2/5] END linear_regression__fit_intercept=False, poly_features__degree=3, poly_features__interaction_only=False;, score=-11.343 total time=   1.1s\n",
      "[CV 3/5] END linear_regression__fit_intercept=False, poly_features__degree=3, poly_features__interaction_only=False;, score=-9.815 total time=   1.1s\n",
      "[CV 4/5] END linear_regression__fit_intercept=False, poly_features__degree=3, poly_features__interaction_only=False;, score=-9.243 total time=   1.2s\n",
      "[CV 5/5] END linear_regression__fit_intercept=False, poly_features__degree=3, poly_features__interaction_only=False;, score=-10.680 total time=   1.1s\n",
      "[CV 1/5] END linear_regression__fit_intercept=False, poly_features__degree=4, poly_features__interaction_only=True;, score=-0.042 total time=   6.0s\n",
      "[CV 2/5] END linear_regression__fit_intercept=False, poly_features__degree=4, poly_features__interaction_only=True;, score=-0.033 total time=   5.9s\n",
      "[CV 3/5] END linear_regression__fit_intercept=False, poly_features__degree=4, poly_features__interaction_only=True;, score=-0.085 total time=   6.0s\n",
      "[CV 4/5] END linear_regression__fit_intercept=False, poly_features__degree=4, poly_features__interaction_only=True;, score=-0.089 total time=   6.1s\n",
      "[CV 5/5] END linear_regression__fit_intercept=False, poly_features__degree=4, poly_features__interaction_only=True;, score=-0.070 total time=   6.0s\n",
      "[CV 1/5] END linear_regression__fit_intercept=False, poly_features__degree=4, poly_features__interaction_only=False;, score=-20.213 total time=  23.7s\n",
      "[CV 2/5] END linear_regression__fit_intercept=False, poly_features__degree=4, poly_features__interaction_only=False;, score=-20.760 total time=  23.6s\n",
      "[CV 3/5] END linear_regression__fit_intercept=False, poly_features__degree=4, poly_features__interaction_only=False;, score=-20.296 total time=  24.0s\n",
      "[CV 4/5] END linear_regression__fit_intercept=False, poly_features__degree=4, poly_features__interaction_only=False;, score=-19.868 total time=  23.7s\n",
      "[CV 5/5] END linear_regression__fit_intercept=False, poly_features__degree=4, poly_features__interaction_only=False;, score=-21.801 total time=  23.7s\n",
      "[CV 1/5] END linear_regression__fit_intercept=False, poly_features__degree=6, poly_features__interaction_only=True;, score=-0.014 total time= 4.7min\n",
      "[CV 2/5] END linear_regression__fit_intercept=False, poly_features__degree=6, poly_features__interaction_only=True;, score=-0.030 total time= 4.7min\n",
      "[CV 3/5] END linear_regression__fit_intercept=False, poly_features__degree=6, poly_features__interaction_only=True;, score=-0.007 total time= 4.7min\n",
      "[CV 4/5] END linear_regression__fit_intercept=False, poly_features__degree=6, poly_features__interaction_only=True;, score=-0.056 total time= 4.7min\n",
      "[CV 5/5] END linear_regression__fit_intercept=False, poly_features__degree=6, poly_features__interaction_only=True;, score=-0.006 total time= 4.7min\n",
      "[CV 1/5] END linear_regression__fit_intercept=False, poly_features__degree=6, poly_features__interaction_only=False;, score=-2700.162 total time=19.1min\n",
      "[CV 2/5] END linear_regression__fit_intercept=False, poly_features__degree=6, poly_features__interaction_only=False;, score=-686.350 total time=21.0min\n",
      "[CV 3/5] END linear_regression__fit_intercept=False, poly_features__degree=6, poly_features__interaction_only=False;, score=-899.049 total time=19.3min\n",
      "[CV 4/5] END linear_regression__fit_intercept=False, poly_features__degree=6, poly_features__interaction_only=False;, score=-731.120 total time=20.7min\n",
      "[CV 5/5] END linear_regression__fit_intercept=False, poly_features__degree=6, poly_features__interaction_only=False;, score=-576.714 total time=24.5min\n",
      "[CV 1/5] END linear_regression__fit_intercept=False, poly_features__degree=10, poly_features__interaction_only=True;, score=-777.424 total time=17.7min\n",
      "[CV 2/5] END linear_regression__fit_intercept=False, poly_features__degree=10, poly_features__interaction_only=True;, score=-406.513 total time=18.0min\n",
      "[CV 3/5] END linear_regression__fit_intercept=False, poly_features__degree=10, poly_features__interaction_only=True;, score=-659.128 total time=15.3min\n",
      "[CV 4/5] END linear_regression__fit_intercept=False, poly_features__degree=10, poly_features__interaction_only=True;, score=-349.310 total time=14.2min\n",
      "[CV 5/5] END linear_regression__fit_intercept=False, poly_features__degree=10, poly_features__interaction_only=True;, score=-1360.906 total time=15.6min\n",
      "[CV 1/5] END linear_regression__fit_intercept=False, poly_features__degree=10, poly_features__interaction_only=False;, score=nan total time=   0.0s\n",
      "[CV 2/5] END linear_regression__fit_intercept=False, poly_features__degree=10, poly_features__interaction_only=False;, score=nan total time=   0.0s\n",
      "[CV 3/5] END linear_regression__fit_intercept=False, poly_features__degree=10, poly_features__interaction_only=False;, score=nan total time=   0.0s\n",
      "[CV 4/5] END linear_regression__fit_intercept=False, poly_features__degree=10, poly_features__interaction_only=False;, score=nan total time=   0.0s\n",
      "[CV 5/5] END linear_regression__fit_intercept=False, poly_features__degree=10, poly_features__interaction_only=False;, score=nan total time=   0.0s\n"
     ]
    },
    {
     "name": "stderr",
     "output_type": "stream",
     "text": [
      "c:\\Users\\aksha\\AppData\\Local\\Programs\\Python\\Python312\\Lib\\site-packages\\sklearn\\model_selection\\_validation.py:540: FitFailedWarning: \n",
      "10 fits failed out of a total of 100.\n",
      "The score on these train-test partitions for these parameters will be set to nan.\n",
      "If these failures are not expected, you can try to debug them by setting error_score='raise'.\n",
      "\n",
      "Below are more details about the failures:\n",
      "--------------------------------------------------------------------------------\n",
      "2 fits failed with the following error:\n",
      "Traceback (most recent call last):\n",
      "  File \"c:\\Users\\aksha\\AppData\\Local\\Programs\\Python\\Python312\\Lib\\site-packages\\sklearn\\model_selection\\_validation.py\", line 888, in _fit_and_score\n",
      "    estimator.fit(X_train, y_train, **fit_params)\n",
      "  File \"c:\\Users\\aksha\\AppData\\Local\\Programs\\Python\\Python312\\Lib\\site-packages\\sklearn\\base.py\", line 1473, in wrapper\n",
      "    return fit_method(estimator, *args, **kwargs)\n",
      "           ^^^^^^^^^^^^^^^^^^^^^^^^^^^^^^^^^^^^^^\n",
      "  File \"c:\\Users\\aksha\\AppData\\Local\\Programs\\Python\\Python312\\Lib\\site-packages\\sklearn\\pipeline.py\", line 469, in fit\n",
      "    Xt = self._fit(X, y, routed_params)\n",
      "         ^^^^^^^^^^^^^^^^^^^^^^^^^^^^^^\n",
      "  File \"c:\\Users\\aksha\\AppData\\Local\\Programs\\Python\\Python312\\Lib\\site-packages\\sklearn\\pipeline.py\", line 406, in _fit\n",
      "    X, fitted_transformer = fit_transform_one_cached(\n",
      "                            ^^^^^^^^^^^^^^^^^^^^^^^^^\n",
      "  File \"c:\\Users\\aksha\\AppData\\Local\\Programs\\Python\\Python312\\Lib\\site-packages\\joblib\\memory.py\", line 312, in __call__\n",
      "    return self.func(*args, **kwargs)\n",
      "           ^^^^^^^^^^^^^^^^^^^^^^^^^^\n",
      "  File \"c:\\Users\\aksha\\AppData\\Local\\Programs\\Python\\Python312\\Lib\\site-packages\\sklearn\\pipeline.py\", line 1310, in _fit_transform_one\n",
      "    res = transformer.fit_transform(X, y, **params.get(\"fit_transform\", {}))\n",
      "          ^^^^^^^^^^^^^^^^^^^^^^^^^^^^^^^^^^^^^^^^^^^^^^^^^^^^^^^^^^^^^^^^^^\n",
      "  File \"c:\\Users\\aksha\\AppData\\Local\\Programs\\Python\\Python312\\Lib\\site-packages\\sklearn\\utils\\_set_output.py\", line 316, in wrapped\n",
      "    data_to_wrap = f(self, X, *args, **kwargs)\n",
      "                   ^^^^^^^^^^^^^^^^^^^^^^^^^^^\n",
      "  File \"c:\\Users\\aksha\\AppData\\Local\\Programs\\Python\\Python312\\Lib\\site-packages\\sklearn\\base.py\", line 1101, in fit_transform\n",
      "    return self.fit(X, y, **fit_params).transform(X)\n",
      "           ^^^^^^^^^^^^^^^^^^^^^^^^^^^^^^^^^^^^^^^^^\n",
      "  File \"c:\\Users\\aksha\\AppData\\Local\\Programs\\Python\\Python312\\Lib\\site-packages\\sklearn\\utils\\_set_output.py\", line 316, in wrapped\n",
      "    data_to_wrap = f(self, X, *args, **kwargs)\n",
      "                   ^^^^^^^^^^^^^^^^^^^^^^^^^^^\n",
      "  File \"c:\\Users\\aksha\\AppData\\Local\\Programs\\Python\\Python312\\Lib\\site-packages\\sklearn\\preprocessing\\_polynomial.py\", line 508, in transform\n",
      "    XP = np.empty(\n",
      "         ^^^^^^^^^\n",
      "numpy.core._exceptions._ArrayMemoryError: Unable to allocate 471. GiB for an array with shape (11896, 5311735) and data type float64\n",
      "\n",
      "--------------------------------------------------------------------------------\n",
      "8 fits failed with the following error:\n",
      "Traceback (most recent call last):\n",
      "  File \"c:\\Users\\aksha\\AppData\\Local\\Programs\\Python\\Python312\\Lib\\site-packages\\sklearn\\model_selection\\_validation.py\", line 888, in _fit_and_score\n",
      "    estimator.fit(X_train, y_train, **fit_params)\n",
      "  File \"c:\\Users\\aksha\\AppData\\Local\\Programs\\Python\\Python312\\Lib\\site-packages\\sklearn\\base.py\", line 1473, in wrapper\n",
      "    return fit_method(estimator, *args, **kwargs)\n",
      "           ^^^^^^^^^^^^^^^^^^^^^^^^^^^^^^^^^^^^^^\n",
      "  File \"c:\\Users\\aksha\\AppData\\Local\\Programs\\Python\\Python312\\Lib\\site-packages\\sklearn\\pipeline.py\", line 469, in fit\n",
      "    Xt = self._fit(X, y, routed_params)\n",
      "         ^^^^^^^^^^^^^^^^^^^^^^^^^^^^^^\n",
      "  File \"c:\\Users\\aksha\\AppData\\Local\\Programs\\Python\\Python312\\Lib\\site-packages\\sklearn\\pipeline.py\", line 406, in _fit\n",
      "    X, fitted_transformer = fit_transform_one_cached(\n",
      "                            ^^^^^^^^^^^^^^^^^^^^^^^^^\n",
      "  File \"c:\\Users\\aksha\\AppData\\Local\\Programs\\Python\\Python312\\Lib\\site-packages\\joblib\\memory.py\", line 312, in __call__\n",
      "    return self.func(*args, **kwargs)\n",
      "           ^^^^^^^^^^^^^^^^^^^^^^^^^^\n",
      "  File \"c:\\Users\\aksha\\AppData\\Local\\Programs\\Python\\Python312\\Lib\\site-packages\\sklearn\\pipeline.py\", line 1310, in _fit_transform_one\n",
      "    res = transformer.fit_transform(X, y, **params.get(\"fit_transform\", {}))\n",
      "          ^^^^^^^^^^^^^^^^^^^^^^^^^^^^^^^^^^^^^^^^^^^^^^^^^^^^^^^^^^^^^^^^^^\n",
      "  File \"c:\\Users\\aksha\\AppData\\Local\\Programs\\Python\\Python312\\Lib\\site-packages\\sklearn\\utils\\_set_output.py\", line 316, in wrapped\n",
      "    data_to_wrap = f(self, X, *args, **kwargs)\n",
      "                   ^^^^^^^^^^^^^^^^^^^^^^^^^^^\n",
      "  File \"c:\\Users\\aksha\\AppData\\Local\\Programs\\Python\\Python312\\Lib\\site-packages\\sklearn\\base.py\", line 1101, in fit_transform\n",
      "    return self.fit(X, y, **fit_params).transform(X)\n",
      "           ^^^^^^^^^^^^^^^^^^^^^^^^^^^^^^^^^^^^^^^^^\n",
      "  File \"c:\\Users\\aksha\\AppData\\Local\\Programs\\Python\\Python312\\Lib\\site-packages\\sklearn\\utils\\_set_output.py\", line 316, in wrapped\n",
      "    data_to_wrap = f(self, X, *args, **kwargs)\n",
      "                   ^^^^^^^^^^^^^^^^^^^^^^^^^^^\n",
      "  File \"c:\\Users\\aksha\\AppData\\Local\\Programs\\Python\\Python312\\Lib\\site-packages\\sklearn\\preprocessing\\_polynomial.py\", line 508, in transform\n",
      "    XP = np.empty(\n",
      "         ^^^^^^^^^\n",
      "numpy.core._exceptions._ArrayMemoryError: Unable to allocate 471. GiB for an array with shape (11897, 5311735) and data type float64\n",
      "\n",
      "  warnings.warn(some_fits_failed_message, FitFailedWarning)\n",
      "c:\\Users\\aksha\\AppData\\Local\\Programs\\Python\\Python312\\Lib\\site-packages\\sklearn\\model_selection\\_search.py:1103: UserWarning: One or more of the test scores are non-finite: [-1.48112715e+02 -1.12308694e+02 -1.71968271e+00 -1.31536140e+01\n",
      " -3.62882082e-01 -2.52854077e+01 -4.82059160e-02 -7.61741300e+02\n",
      " -1.39724442e+02             nan -1.41264849e+02 -2.68220553e+02\n",
      " -3.08505142e+00 -1.02283468e+01 -6.37311951e-02 -2.05876611e+01\n",
      " -2.28021577e-02 -1.11867874e+03 -7.10656350e+02             nan]\n",
      "  warnings.warn(\n"
     ]
    },
    {
     "name": "stdout",
     "output_type": "stream",
     "text": [
      "Best Parameters: {'linear_regression__fit_intercept': False, 'poly_features__degree': 6, 'poly_features__interaction_only': True}\n",
      "Best Cross-validation Score: -0.02280215768456314\n",
      "MSE -> 0.03897340867366172\n"
     ]
    }
   ],
   "source": [
    "perform_polyReg(x_train, x_test, y_train, y_test)"
   ]
  },
  {
   "cell_type": "code",
   "execution_count": null,
   "metadata": {},
   "outputs": [
    {
     "name": "stdout",
     "output_type": "stream",
     "text": [
      "MSE -> 0.03897340867366172\n"
     ]
    }
   ],
   "source": [
    "fine_tune_model = Pipeline([\n",
    "            ('poly_features', PolynomialFeatures(degree=6, interaction_only=True)),  # Polynomial Feature Generator\n",
    "            ('linear_regression', LinearRegression(fit_intercept= False))  # Linear regression\n",
    "        ])\n",
    "import Helper\n",
    "best_features = [\n",
    "    'GDP',\n",
    "    'USTRADE', \n",
    "    'CPIAUCSL', \n",
    "    'GFDEBTN', \n",
    "    'INDPRO', \n",
    "    'M2SL', \n",
    "    'POPTHM', \n",
    "    'Real_Estate_Loans_All_Commercial_Banks_Daily', \n",
    "    'Real_Personal_Consumption_Expenditures_Daily', \n",
    "    'Real_Government_Consumption_Expenditures_and_Gross_Investment', \n",
    "    'Real_Gross_Private_Domestic_Investment', \n",
    "    'Real_Final_Sales_to_Private_Domestic_Purchasers_Daily', \n",
    "    'Real_Disposable_Personal_Income_Daily', \n",
    "    'Personal_Consumption_Expenditures_Durable_Goods_Daily', \n",
    "    'Domestic_Nonfinancial_Sectors_Debt_Securities_and_Loans_Liability_Level_Daily', \n",
    "    'All_Employees_Total_Nonfarm_Daily', \n",
    "    'Commercial_and_Industrial_Loans_All_Commercial_Banks_Daily'\n",
    "]\n",
    "\n",
    "data_set = Helper.load_data('Linear1','../Datasets/Final Datasets/')\n",
    "data_set = Helper.proc_data(data_set, del_columns = ['DATE'])\n",
    "data_set = data_set[best_features]\n",
    "\n",
    "x_train, x_test, y_train, y_test = Helper.split_data(data_set, 'GDP')\n",
    "fine_tune_model.fit(x_train, y_train)\n",
    "\n",
    "y_pred = fine_tune_model.predict(x_test)\n",
    "\n",
    "mse = mean_squared_error(y_test, y_pred)\n",
    "print(f\"MSE -> {mse}\")"
   ]
  },
  {
   "cell_type": "markdown",
   "metadata": {},
   "source": [
    "## Training on lagged datasets"
   ]
  },
  {
   "cell_type": "code",
   "execution_count": 3,
   "metadata": {},
   "outputs": [],
   "source": [
    "data_set = Helper.load_data('2_Y_Lag','../Datasets/Lagged/')\n",
    "data_set = Helper.proc_data(data_set, del_columns = ['DATE'])\n",
    "data_set.head()\n",
    "x_train, x_test, y_train, y_test = Helper.split_data(data_set, 'GDP')"
   ]
  },
  {
   "cell_type": "code",
   "execution_count": 4,
   "metadata": {},
   "outputs": [
    {
     "name": "stdout",
     "output_type": "stream",
     "text": [
      "Fitting 5 folds for each of 12 candidates, totalling 60 fits\n",
      "[CV 1/5] END linear_regression__fit_intercept=True, poly_features__degree=4, poly_features__interaction_only=True;, score=-0.397 total time=   6.0s\n",
      "[CV 2/5] END linear_regression__fit_intercept=True, poly_features__degree=4, poly_features__interaction_only=True;, score=-3.045 total time=   5.7s\n",
      "[CV 3/5] END linear_regression__fit_intercept=True, poly_features__degree=4, poly_features__interaction_only=True;, score=-1.020 total time=   5.9s\n",
      "[CV 4/5] END linear_regression__fit_intercept=True, poly_features__degree=4, poly_features__interaction_only=True;, score=-148.249 total time=   5.9s\n",
      "[CV 5/5] END linear_regression__fit_intercept=True, poly_features__degree=4, poly_features__interaction_only=True;, score=-0.808 total time=   5.6s\n",
      "[CV 1/5] END linear_regression__fit_intercept=True, poly_features__degree=4, poly_features__interaction_only=False;, score=-108.428 total time=  22.8s\n",
      "[CV 2/5] END linear_regression__fit_intercept=True, poly_features__degree=4, poly_features__interaction_only=False;, score=-112.708 total time=  23.0s\n",
      "[CV 3/5] END linear_regression__fit_intercept=True, poly_features__degree=4, poly_features__interaction_only=False;, score=-113.209 total time=  23.3s\n",
      "[CV 4/5] END linear_regression__fit_intercept=True, poly_features__degree=4, poly_features__interaction_only=False;, score=-220.669 total time=  23.1s\n",
      "[CV 5/5] END linear_regression__fit_intercept=True, poly_features__degree=4, poly_features__interaction_only=False;, score=-122.090 total time=  23.2s\n",
      "[CV 1/5] END linear_regression__fit_intercept=True, poly_features__degree=6, poly_features__interaction_only=True;, score=-0.521 total time= 4.4min\n",
      "[CV 2/5] END linear_regression__fit_intercept=True, poly_features__degree=6, poly_features__interaction_only=True;, score=-0.056 total time= 4.3min\n",
      "[CV 3/5] END linear_regression__fit_intercept=True, poly_features__degree=6, poly_features__interaction_only=True;, score=-0.125 total time= 4.3min\n",
      "[CV 4/5] END linear_regression__fit_intercept=True, poly_features__degree=6, poly_features__interaction_only=True;, score=-182994.471 total time= 4.3min\n",
      "[CV 5/5] END linear_regression__fit_intercept=True, poly_features__degree=6, poly_features__interaction_only=True;, score=-0.275 total time= 4.3min\n",
      "[CV 1/5] END linear_regression__fit_intercept=True, poly_features__degree=6, poly_features__interaction_only=False;, score=-834.004 total time=14.7min\n",
      "[CV 2/5] END linear_regression__fit_intercept=True, poly_features__degree=6, poly_features__interaction_only=False;, score=-2126.075 total time=15.9min\n",
      "[CV 3/5] END linear_regression__fit_intercept=True, poly_features__degree=6, poly_features__interaction_only=False;, score=-4372.509 total time=15.4min\n",
      "[CV 4/5] END linear_regression__fit_intercept=True, poly_features__degree=6, poly_features__interaction_only=False;, score=-3993.881 total time=15.6min\n",
      "[CV 5/5] END linear_regression__fit_intercept=True, poly_features__degree=6, poly_features__interaction_only=False;, score=-2894.174 total time=16.4min\n",
      "[CV 1/5] END linear_regression__fit_intercept=True, poly_features__degree=8, poly_features__interaction_only=True;, score=-0.389 total time= 4.9min\n",
      "[CV 2/5] END linear_regression__fit_intercept=True, poly_features__degree=8, poly_features__interaction_only=True;, score=-1.413 total time= 5.1min\n",
      "[CV 3/5] END linear_regression__fit_intercept=True, poly_features__degree=8, poly_features__interaction_only=True;, score=-0.735 total time= 5.0min\n",
      "[CV 4/5] END linear_regression__fit_intercept=True, poly_features__degree=8, poly_features__interaction_only=True;, score=-1702625.674 total time= 5.0min\n",
      "[CV 5/5] END linear_regression__fit_intercept=True, poly_features__degree=8, poly_features__interaction_only=True;, score=-0.518 total time= 5.2min\n",
      "[CV 1/5] END linear_regression__fit_intercept=True, poly_features__degree=8, poly_features__interaction_only=False;, score=nan total time=   0.0s\n",
      "[CV 2/5] END linear_regression__fit_intercept=True, poly_features__degree=8, poly_features__interaction_only=False;, score=nan total time=   0.0s\n",
      "[CV 3/5] END linear_regression__fit_intercept=True, poly_features__degree=8, poly_features__interaction_only=False;, score=nan total time=   0.0s\n",
      "[CV 4/5] END linear_regression__fit_intercept=True, poly_features__degree=8, poly_features__interaction_only=False;, score=nan total time=   0.0s\n",
      "[CV 5/5] END linear_regression__fit_intercept=True, poly_features__degree=8, poly_features__interaction_only=False;, score=nan total time=   0.0s\n",
      "[CV 1/5] END linear_regression__fit_intercept=False, poly_features__degree=4, poly_features__interaction_only=True;, score=-3.248 total time=   6.0s\n",
      "[CV 2/5] END linear_regression__fit_intercept=False, poly_features__degree=4, poly_features__interaction_only=True;, score=-2.807 total time=   5.8s\n",
      "[CV 3/5] END linear_regression__fit_intercept=False, poly_features__degree=4, poly_features__interaction_only=True;, score=-6.736 total time=   5.6s\n",
      "[CV 4/5] END linear_regression__fit_intercept=False, poly_features__degree=4, poly_features__interaction_only=True;, score=-151.830 total time=   5.7s\n",
      "[CV 5/5] END linear_regression__fit_intercept=False, poly_features__degree=4, poly_features__interaction_only=True;, score=-6.293 total time=   5.7s\n",
      "[CV 1/5] END linear_regression__fit_intercept=False, poly_features__degree=4, poly_features__interaction_only=False;, score=-206.661 total time=  22.5s\n",
      "[CV 2/5] END linear_regression__fit_intercept=False, poly_features__degree=4, poly_features__interaction_only=False;, score=-213.754 total time=  22.7s\n",
      "[CV 3/5] END linear_regression__fit_intercept=False, poly_features__degree=4, poly_features__interaction_only=False;, score=-177.416 total time=  22.8s\n",
      "[CV 4/5] END linear_regression__fit_intercept=False, poly_features__degree=4, poly_features__interaction_only=False;, score=-139.069 total time=  22.7s\n",
      "[CV 5/5] END linear_regression__fit_intercept=False, poly_features__degree=4, poly_features__interaction_only=False;, score=-133.422 total time=  22.8s\n",
      "[CV 1/5] END linear_regression__fit_intercept=False, poly_features__degree=6, poly_features__interaction_only=True;, score=-0.601 total time= 4.3min\n",
      "[CV 2/5] END linear_regression__fit_intercept=False, poly_features__degree=6, poly_features__interaction_only=True;, score=-0.076 total time= 4.3min\n",
      "[CV 3/5] END linear_regression__fit_intercept=False, poly_features__degree=6, poly_features__interaction_only=True;, score=-0.215 total time= 4.3min\n",
      "[CV 4/5] END linear_regression__fit_intercept=False, poly_features__degree=6, poly_features__interaction_only=True;, score=-95582.579 total time= 4.3min\n",
      "[CV 5/5] END linear_regression__fit_intercept=False, poly_features__degree=6, poly_features__interaction_only=True;, score=-0.263 total time= 4.3min\n",
      "[CV 1/5] END linear_regression__fit_intercept=False, poly_features__degree=6, poly_features__interaction_only=False;, score=-883.036 total time=18.0min\n",
      "[CV 2/5] END linear_regression__fit_intercept=False, poly_features__degree=6, poly_features__interaction_only=False;, score=-3494.089 total time=17.0min\n",
      "[CV 3/5] END linear_regression__fit_intercept=False, poly_features__degree=6, poly_features__interaction_only=False;, score=-3034.578 total time=17.8min\n",
      "[CV 4/5] END linear_regression__fit_intercept=False, poly_features__degree=6, poly_features__interaction_only=False;, score=-5196.312 total time=16.0min\n",
      "[CV 5/5] END linear_regression__fit_intercept=False, poly_features__degree=6, poly_features__interaction_only=False;, score=-2935.457 total time=19.0min\n",
      "[CV 1/5] END linear_regression__fit_intercept=False, poly_features__degree=8, poly_features__interaction_only=True;, score=-2.559 total time= 4.9min\n",
      "[CV 2/5] END linear_regression__fit_intercept=False, poly_features__degree=8, poly_features__interaction_only=True;, score=-0.573 total time= 5.0min\n",
      "[CV 3/5] END linear_regression__fit_intercept=False, poly_features__degree=8, poly_features__interaction_only=True;, score=-0.354 total time= 4.9min\n",
      "[CV 4/5] END linear_regression__fit_intercept=False, poly_features__degree=8, poly_features__interaction_only=True;, score=-1230687.055 total time= 4.9min\n",
      "[CV 5/5] END linear_regression__fit_intercept=False, poly_features__degree=8, poly_features__interaction_only=True;, score=-0.620 total time= 5.0min\n",
      "[CV 1/5] END linear_regression__fit_intercept=False, poly_features__degree=8, poly_features__interaction_only=False;, score=nan total time=   0.0s\n",
      "[CV 2/5] END linear_regression__fit_intercept=False, poly_features__degree=8, poly_features__interaction_only=False;, score=nan total time=   0.0s\n",
      "[CV 3/5] END linear_regression__fit_intercept=False, poly_features__degree=8, poly_features__interaction_only=False;, score=nan total time=   0.0s\n",
      "[CV 4/5] END linear_regression__fit_intercept=False, poly_features__degree=8, poly_features__interaction_only=False;, score=nan total time=   0.0s\n",
      "[CV 5/5] END linear_regression__fit_intercept=False, poly_features__degree=8, poly_features__interaction_only=False;, score=nan total time=   0.0s\n"
     ]
    },
    {
     "name": "stderr",
     "output_type": "stream",
     "text": [
      "c:\\Users\\aksha\\AppData\\Local\\Programs\\Python\\Python312\\Lib\\site-packages\\sklearn\\model_selection\\_validation.py:540: FitFailedWarning: \n",
      "10 fits failed out of a total of 60.\n",
      "The score on these train-test partitions for these parameters will be set to nan.\n",
      "If these failures are not expected, you can try to debug them by setting error_score='raise'.\n",
      "\n",
      "Below are more details about the failures:\n",
      "--------------------------------------------------------------------------------\n",
      "10 fits failed with the following error:\n",
      "Traceback (most recent call last):\n",
      "  File \"c:\\Users\\aksha\\AppData\\Local\\Programs\\Python\\Python312\\Lib\\site-packages\\sklearn\\model_selection\\_validation.py\", line 888, in _fit_and_score\n",
      "    estimator.fit(X_train, y_train, **fit_params)\n",
      "  File \"c:\\Users\\aksha\\AppData\\Local\\Programs\\Python\\Python312\\Lib\\site-packages\\sklearn\\base.py\", line 1473, in wrapper\n",
      "    return fit_method(estimator, *args, **kwargs)\n",
      "           ^^^^^^^^^^^^^^^^^^^^^^^^^^^^^^^^^^^^^^\n",
      "  File \"c:\\Users\\aksha\\AppData\\Local\\Programs\\Python\\Python312\\Lib\\site-packages\\sklearn\\pipeline.py\", line 469, in fit\n",
      "    Xt = self._fit(X, y, routed_params)\n",
      "         ^^^^^^^^^^^^^^^^^^^^^^^^^^^^^^\n",
      "  File \"c:\\Users\\aksha\\AppData\\Local\\Programs\\Python\\Python312\\Lib\\site-packages\\sklearn\\pipeline.py\", line 406, in _fit\n",
      "    X, fitted_transformer = fit_transform_one_cached(\n",
      "                            ^^^^^^^^^^^^^^^^^^^^^^^^^\n",
      "  File \"c:\\Users\\aksha\\AppData\\Local\\Programs\\Python\\Python312\\Lib\\site-packages\\joblib\\memory.py\", line 312, in __call__\n",
      "    return self.func(*args, **kwargs)\n",
      "           ^^^^^^^^^^^^^^^^^^^^^^^^^^\n",
      "  File \"c:\\Users\\aksha\\AppData\\Local\\Programs\\Python\\Python312\\Lib\\site-packages\\sklearn\\pipeline.py\", line 1310, in _fit_transform_one\n",
      "    res = transformer.fit_transform(X, y, **params.get(\"fit_transform\", {}))\n",
      "          ^^^^^^^^^^^^^^^^^^^^^^^^^^^^^^^^^^^^^^^^^^^^^^^^^^^^^^^^^^^^^^^^^^\n",
      "  File \"c:\\Users\\aksha\\AppData\\Local\\Programs\\Python\\Python312\\Lib\\site-packages\\sklearn\\utils\\_set_output.py\", line 316, in wrapped\n",
      "    data_to_wrap = f(self, X, *args, **kwargs)\n",
      "                   ^^^^^^^^^^^^^^^^^^^^^^^^^^^\n",
      "  File \"c:\\Users\\aksha\\AppData\\Local\\Programs\\Python\\Python312\\Lib\\site-packages\\sklearn\\base.py\", line 1101, in fit_transform\n",
      "    return self.fit(X, y, **fit_params).transform(X)\n",
      "           ^^^^^^^^^^^^^^^^^^^^^^^^^^^^^^^^^^^^^^^^^\n",
      "  File \"c:\\Users\\aksha\\AppData\\Local\\Programs\\Python\\Python312\\Lib\\site-packages\\sklearn\\utils\\_set_output.py\", line 316, in wrapped\n",
      "    data_to_wrap = f(self, X, *args, **kwargs)\n",
      "                   ^^^^^^^^^^^^^^^^^^^^^^^^^^^\n",
      "  File \"c:\\Users\\aksha\\AppData\\Local\\Programs\\Python\\Python312\\Lib\\site-packages\\sklearn\\preprocessing\\_polynomial.py\", line 508, in transform\n",
      "    XP = np.empty(\n",
      "         ^^^^^^^^^\n",
      "numpy.core._exceptions._ArrayMemoryError: Unable to allocate 63.0 GiB for an array with shape (11488, 735471) and data type float64\n",
      "\n",
      "  warnings.warn(some_fits_failed_message, FitFailedWarning)\n",
      "c:\\Users\\aksha\\AppData\\Local\\Programs\\Python\\Python312\\Lib\\site-packages\\sklearn\\model_selection\\_search.py:1103: UserWarning: One or more of the test scores are non-finite: [-3.07037159e+01 -1.35420988e+02 -3.65990894e+04 -2.84412856e+03\n",
      " -3.40525746e+05             nan -3.41828214e+01 -1.74064533e+02\n",
      " -1.91167469e+04 -3.10869445e+03 -2.46138232e+05             nan]\n",
      "  warnings.warn(\n"
     ]
    },
    {
     "name": "stdout",
     "output_type": "stream",
     "text": [
      "Best Parameters: {'linear_regression__fit_intercept': True, 'poly_features__degree': 4, 'poly_features__interaction_only': True}\n",
      "Best Cross-validation Score: -30.703715866921094\n",
      "MSE -> 1.8582817019844007\n"
     ]
    }
   ],
   "source": [
    "perform_polyReg(x_train, x_test, y_train, y_test)"
   ]
  },
  {
   "cell_type": "code",
   "execution_count": 7,
   "metadata": {},
   "outputs": [
    {
     "name": "stdout",
     "output_type": "stream",
     "text": [
      "MSE -> 1.8582817019844007\n"
     ]
    }
   ],
   "source": [
    "fine_tune_model = Pipeline([\n",
    "            ('poly_features', PolynomialFeatures(degree=4, interaction_only=True)),  # Polynomial Feature Generator\n",
    "            ('linear_regression', LinearRegression(fit_intercept= True))  # Linear regression\n",
    "        ])\n",
    "\n",
    "data_set = Helper.load_data('2_Y_Lag','../Datasets/Lagged/')\n",
    "data_set = Helper.proc_data(data_set, del_columns = ['DATE'])\n",
    "data_set.head()\n",
    "x_train, x_test, y_train, y_test = Helper.split_data(data_set, 'GDP')\n",
    "\n",
    "fine_tune_model.fit(x_train, y_train)\n",
    "\n",
    "y_pred = fine_tune_model.predict(x_test)\n",
    "\n",
    "mse = mean_squared_error(y_test, y_pred)\n",
    "print(f\"MSE -> {mse}\")"
   ]
  },
  {
   "cell_type": "code",
   "execution_count": 5,
   "metadata": {},
   "outputs": [],
   "source": [
    "data_set = Helper.load_data('6_M_Lag','../Datasets/Lagged/')\n",
    "data_set = Helper.proc_data(data_set, del_columns = ['DATE'])\n",
    "data_set.head()\n",
    "x_train, x_test, y_train, y_test = Helper.split_data(data_set, 'GDP')"
   ]
  },
  {
   "cell_type": "code",
   "execution_count": 6,
   "metadata": {},
   "outputs": [
    {
     "name": "stdout",
     "output_type": "stream",
     "text": [
      "Fitting 5 folds for each of 12 candidates, totalling 60 fits\n",
      "[CV 1/5] END linear_regression__fit_intercept=True, poly_features__degree=4, poly_features__interaction_only=True;, score=-1.252 total time=   6.0s\n",
      "[CV 2/5] END linear_regression__fit_intercept=True, poly_features__degree=4, poly_features__interaction_only=True;, score=-1.832 total time=   5.9s\n",
      "[CV 3/5] END linear_regression__fit_intercept=True, poly_features__degree=4, poly_features__interaction_only=True;, score=-3.303 total time=   5.8s\n",
      "[CV 4/5] END linear_regression__fit_intercept=True, poly_features__degree=4, poly_features__interaction_only=True;, score=-1.118 total time=   5.8s\n",
      "[CV 5/5] END linear_regression__fit_intercept=True, poly_features__degree=4, poly_features__interaction_only=True;, score=-1.081 total time=   5.8s\n",
      "[CV 1/5] END linear_regression__fit_intercept=True, poly_features__degree=4, poly_features__interaction_only=False;, score=-288.173 total time=  22.9s\n",
      "[CV 2/5] END linear_regression__fit_intercept=True, poly_features__degree=4, poly_features__interaction_only=False;, score=-824.190 total time=  23.0s\n",
      "[CV 3/5] END linear_regression__fit_intercept=True, poly_features__degree=4, poly_features__interaction_only=False;, score=-919.897 total time=  22.9s\n",
      "[CV 4/5] END linear_regression__fit_intercept=True, poly_features__degree=4, poly_features__interaction_only=False;, score=-1285.721 total time=  23.0s\n",
      "[CV 5/5] END linear_regression__fit_intercept=True, poly_features__degree=4, poly_features__interaction_only=False;, score=-896.881 total time=  22.9s\n",
      "[CV 1/5] END linear_regression__fit_intercept=True, poly_features__degree=6, poly_features__interaction_only=True;, score=-0.328 total time= 4.5min\n",
      "[CV 2/5] END linear_regression__fit_intercept=True, poly_features__degree=6, poly_features__interaction_only=True;, score=-0.719 total time= 4.5min\n",
      "[CV 3/5] END linear_regression__fit_intercept=True, poly_features__degree=6, poly_features__interaction_only=True;, score=-0.918 total time= 4.5min\n",
      "[CV 4/5] END linear_regression__fit_intercept=True, poly_features__degree=6, poly_features__interaction_only=True;, score=-0.401 total time= 5.4min\n",
      "[CV 5/5] END linear_regression__fit_intercept=True, poly_features__degree=6, poly_features__interaction_only=True;, score=-0.336 total time= 4.6min\n",
      "[CV 1/5] END linear_regression__fit_intercept=True, poly_features__degree=6, poly_features__interaction_only=False;, score=-1685.208 total time=22.9min\n",
      "[CV 2/5] END linear_regression__fit_intercept=True, poly_features__degree=6, poly_features__interaction_only=False;, score=-2515.453 total time=18.8min\n",
      "[CV 3/5] END linear_regression__fit_intercept=True, poly_features__degree=6, poly_features__interaction_only=False;, score=-2812.766 total time=17.9min\n",
      "[CV 4/5] END linear_regression__fit_intercept=True, poly_features__degree=6, poly_features__interaction_only=False;, score=-5205.498 total time=19.3min\n",
      "[CV 5/5] END linear_regression__fit_intercept=True, poly_features__degree=6, poly_features__interaction_only=False;, score=-2685.734 total time=18.7min\n",
      "[CV 1/5] END linear_regression__fit_intercept=True, poly_features__degree=8, poly_features__interaction_only=True;, score=-0.875 total time= 5.4min\n",
      "[CV 2/5] END linear_regression__fit_intercept=True, poly_features__degree=8, poly_features__interaction_only=True;, score=-8.735 total time= 6.6min\n",
      "[CV 3/5] END linear_regression__fit_intercept=True, poly_features__degree=8, poly_features__interaction_only=True;, score=-8.608 total time= 6.0min\n",
      "[CV 4/5] END linear_regression__fit_intercept=True, poly_features__degree=8, poly_features__interaction_only=True;, score=-50.298 total time= 5.7min\n",
      "[CV 5/5] END linear_regression__fit_intercept=True, poly_features__degree=8, poly_features__interaction_only=True;, score=-18.219 total time= 5.5min\n",
      "[CV 1/5] END linear_regression__fit_intercept=True, poly_features__degree=8, poly_features__interaction_only=False;, score=nan total time=   0.0s\n",
      "[CV 2/5] END linear_regression__fit_intercept=True, poly_features__degree=8, poly_features__interaction_only=False;, score=nan total time=   0.0s\n",
      "[CV 3/5] END linear_regression__fit_intercept=True, poly_features__degree=8, poly_features__interaction_only=False;, score=nan total time=   0.0s\n",
      "[CV 4/5] END linear_regression__fit_intercept=True, poly_features__degree=8, poly_features__interaction_only=False;, score=nan total time=   0.0s\n",
      "[CV 5/5] END linear_regression__fit_intercept=True, poly_features__degree=8, poly_features__interaction_only=False;, score=nan total time=   0.0s\n",
      "[CV 1/5] END linear_regression__fit_intercept=False, poly_features__degree=4, poly_features__interaction_only=True;, score=-1.702 total time=   5.9s\n",
      "[CV 2/5] END linear_regression__fit_intercept=False, poly_features__degree=4, poly_features__interaction_only=True;, score=-2.790 total time=   5.8s\n",
      "[CV 3/5] END linear_regression__fit_intercept=False, poly_features__degree=4, poly_features__interaction_only=True;, score=-2.077 total time=   5.8s\n",
      "[CV 4/5] END linear_regression__fit_intercept=False, poly_features__degree=4, poly_features__interaction_only=True;, score=-0.882 total time=   5.8s\n",
      "[CV 5/5] END linear_regression__fit_intercept=False, poly_features__degree=4, poly_features__interaction_only=True;, score=-1.381 total time=   5.7s\n",
      "[CV 1/5] END linear_regression__fit_intercept=False, poly_features__degree=4, poly_features__interaction_only=False;, score=-86.195 total time=  23.1s\n",
      "[CV 2/5] END linear_regression__fit_intercept=False, poly_features__degree=4, poly_features__interaction_only=False;, score=-85.471 total time=  22.9s\n",
      "[CV 3/5] END linear_regression__fit_intercept=False, poly_features__degree=4, poly_features__interaction_only=False;, score=-95.284 total time=  22.8s\n",
      "[CV 4/5] END linear_regression__fit_intercept=False, poly_features__degree=4, poly_features__interaction_only=False;, score=-85.206 total time=  22.7s\n",
      "[CV 5/5] END linear_regression__fit_intercept=False, poly_features__degree=4, poly_features__interaction_only=False;, score=-88.568 total time=  22.8s\n",
      "[CV 1/5] END linear_regression__fit_intercept=False, poly_features__degree=6, poly_features__interaction_only=True;, score=-0.291 total time= 4.6min\n",
      "[CV 2/5] END linear_regression__fit_intercept=False, poly_features__degree=6, poly_features__interaction_only=True;, score=-0.690 total time= 4.6min\n",
      "[CV 3/5] END linear_regression__fit_intercept=False, poly_features__degree=6, poly_features__interaction_only=True;, score=-0.823 total time= 4.6min\n",
      "[CV 4/5] END linear_regression__fit_intercept=False, poly_features__degree=6, poly_features__interaction_only=True;, score=-0.525 total time= 4.5min\n",
      "[CV 5/5] END linear_regression__fit_intercept=False, poly_features__degree=6, poly_features__interaction_only=True;, score=-0.445 total time= 4.5min\n",
      "[CV 1/5] END linear_regression__fit_intercept=False, poly_features__degree=6, poly_features__interaction_only=False;, score=-1490.969 total time=19.3min\n",
      "[CV 2/5] END linear_regression__fit_intercept=False, poly_features__degree=6, poly_features__interaction_only=False;, score=-2380.196 total time=16.5min\n",
      "[CV 3/5] END linear_regression__fit_intercept=False, poly_features__degree=6, poly_features__interaction_only=False;, score=-2684.435 total time=19.9min\n",
      "[CV 4/5] END linear_regression__fit_intercept=False, poly_features__degree=6, poly_features__interaction_only=False;, score=-2890.929 total time=19.7min\n",
      "[CV 5/5] END linear_regression__fit_intercept=False, poly_features__degree=6, poly_features__interaction_only=False;, score=-3282.897 total time=18.7min\n",
      "[CV 1/5] END linear_regression__fit_intercept=False, poly_features__degree=8, poly_features__interaction_only=True;, score=-2.327 total time= 5.5min\n",
      "[CV 2/5] END linear_regression__fit_intercept=False, poly_features__degree=8, poly_features__interaction_only=True;, score=-27.823 total time= 5.3min\n",
      "[CV 3/5] END linear_regression__fit_intercept=False, poly_features__degree=8, poly_features__interaction_only=True;, score=-19.255 total time= 5.2min\n",
      "[CV 4/5] END linear_regression__fit_intercept=False, poly_features__degree=8, poly_features__interaction_only=True;, score=-29.642 total time= 5.3min\n",
      "[CV 5/5] END linear_regression__fit_intercept=False, poly_features__degree=8, poly_features__interaction_only=True;, score=-28.546 total time= 5.3min\n",
      "[CV 1/5] END linear_regression__fit_intercept=False, poly_features__degree=8, poly_features__interaction_only=False;, score=nan total time=   0.0s\n",
      "[CV 2/5] END linear_regression__fit_intercept=False, poly_features__degree=8, poly_features__interaction_only=False;, score=nan total time=   0.0s\n",
      "[CV 3/5] END linear_regression__fit_intercept=False, poly_features__degree=8, poly_features__interaction_only=False;, score=nan total time=   0.0s\n",
      "[CV 4/5] END linear_regression__fit_intercept=False, poly_features__degree=8, poly_features__interaction_only=False;, score=nan total time=   0.0s\n",
      "[CV 5/5] END linear_regression__fit_intercept=False, poly_features__degree=8, poly_features__interaction_only=False;, score=nan total time=   0.0s\n"
     ]
    },
    {
     "name": "stderr",
     "output_type": "stream",
     "text": [
      "c:\\Users\\aksha\\AppData\\Local\\Programs\\Python\\Python312\\Lib\\site-packages\\sklearn\\model_selection\\_validation.py:540: FitFailedWarning: \n",
      "10 fits failed out of a total of 60.\n",
      "The score on these train-test partitions for these parameters will be set to nan.\n",
      "If these failures are not expected, you can try to debug them by setting error_score='raise'.\n",
      "\n",
      "Below are more details about the failures:\n",
      "--------------------------------------------------------------------------------\n",
      "10 fits failed with the following error:\n",
      "Traceback (most recent call last):\n",
      "  File \"c:\\Users\\aksha\\AppData\\Local\\Programs\\Python\\Python312\\Lib\\site-packages\\sklearn\\model_selection\\_validation.py\", line 888, in _fit_and_score\n",
      "    estimator.fit(X_train, y_train, **fit_params)\n",
      "  File \"c:\\Users\\aksha\\AppData\\Local\\Programs\\Python\\Python312\\Lib\\site-packages\\sklearn\\base.py\", line 1473, in wrapper\n",
      "    return fit_method(estimator, *args, **kwargs)\n",
      "           ^^^^^^^^^^^^^^^^^^^^^^^^^^^^^^^^^^^^^^\n",
      "  File \"c:\\Users\\aksha\\AppData\\Local\\Programs\\Python\\Python312\\Lib\\site-packages\\sklearn\\pipeline.py\", line 469, in fit\n",
      "    Xt = self._fit(X, y, routed_params)\n",
      "         ^^^^^^^^^^^^^^^^^^^^^^^^^^^^^^\n",
      "  File \"c:\\Users\\aksha\\AppData\\Local\\Programs\\Python\\Python312\\Lib\\site-packages\\sklearn\\pipeline.py\", line 406, in _fit\n",
      "    X, fitted_transformer = fit_transform_one_cached(\n",
      "                            ^^^^^^^^^^^^^^^^^^^^^^^^^\n",
      "  File \"c:\\Users\\aksha\\AppData\\Local\\Programs\\Python\\Python312\\Lib\\site-packages\\joblib\\memory.py\", line 312, in __call__\n",
      "    return self.func(*args, **kwargs)\n",
      "           ^^^^^^^^^^^^^^^^^^^^^^^^^^\n",
      "  File \"c:\\Users\\aksha\\AppData\\Local\\Programs\\Python\\Python312\\Lib\\site-packages\\sklearn\\pipeline.py\", line 1310, in _fit_transform_one\n",
      "    res = transformer.fit_transform(X, y, **params.get(\"fit_transform\", {}))\n",
      "          ^^^^^^^^^^^^^^^^^^^^^^^^^^^^^^^^^^^^^^^^^^^^^^^^^^^^^^^^^^^^^^^^^^\n",
      "  File \"c:\\Users\\aksha\\AppData\\Local\\Programs\\Python\\Python312\\Lib\\site-packages\\sklearn\\utils\\_set_output.py\", line 316, in wrapped\n",
      "    data_to_wrap = f(self, X, *args, **kwargs)\n",
      "                   ^^^^^^^^^^^^^^^^^^^^^^^^^^^\n",
      "  File \"c:\\Users\\aksha\\AppData\\Local\\Programs\\Python\\Python312\\Lib\\site-packages\\sklearn\\base.py\", line 1101, in fit_transform\n",
      "    return self.fit(X, y, **fit_params).transform(X)\n",
      "           ^^^^^^^^^^^^^^^^^^^^^^^^^^^^^^^^^^^^^^^^^\n",
      "  File \"c:\\Users\\aksha\\AppData\\Local\\Programs\\Python\\Python312\\Lib\\site-packages\\sklearn\\utils\\_set_output.py\", line 316, in wrapped\n",
      "    data_to_wrap = f(self, X, *args, **kwargs)\n",
      "                   ^^^^^^^^^^^^^^^^^^^^^^^^^^^\n",
      "  File \"c:\\Users\\aksha\\AppData\\Local\\Programs\\Python\\Python312\\Lib\\site-packages\\sklearn\\preprocessing\\_polynomial.py\", line 508, in transform\n",
      "    XP = np.empty(\n",
      "         ^^^^^^^^^\n",
      "numpy.core._exceptions._ArrayMemoryError: Unable to allocate 64.6 GiB for an array with shape (11796, 735471) and data type float64\n",
      "\n",
      "  warnings.warn(some_fits_failed_message, FitFailedWarning)\n",
      "c:\\Users\\aksha\\AppData\\Local\\Programs\\Python\\Python312\\Lib\\site-packages\\sklearn\\model_selection\\_search.py:1103: UserWarning: One or more of the test scores are non-finite: [-1.71721143e+00 -8.42972317e+02 -5.40512979e-01 -2.98093183e+03\n",
      " -1.73470675e+01             nan -1.76654928e+00 -8.81449977e+01\n",
      " -5.54917047e-01 -2.54588495e+03 -2.15184211e+01             nan]\n",
      "  warnings.warn(\n"
     ]
    },
    {
     "name": "stdout",
     "output_type": "stream",
     "text": [
      "Best Parameters: {'linear_regression__fit_intercept': True, 'poly_features__degree': 6, 'poly_features__interaction_only': True}\n",
      "Best Cross-validation Score: -0.5405129790854112\n",
      "MSE -> 0.32009146099743113\n"
     ]
    }
   ],
   "source": [
    "perform_polyReg(x_train, x_test, y_train, y_test)"
   ]
  },
  {
   "cell_type": "code",
   "execution_count": 8,
   "metadata": {},
   "outputs": [
    {
     "name": "stdout",
     "output_type": "stream",
     "text": [
      "MSE -> 0.32009146099743113\n"
     ]
    }
   ],
   "source": [
    "fine_tune_model = Pipeline([\n",
    "            ('poly_features', PolynomialFeatures(degree=6, interaction_only=True)),  # Polynomial Feature Generator\n",
    "            ('linear_regression', LinearRegression(fit_intercept= True))  # Linear regression\n",
    "        ])\n",
    "\n",
    "data_set = Helper.load_data('6_M_Lag','../Datasets/Lagged/')\n",
    "data_set = Helper.proc_data(data_set, del_columns = ['DATE'])\n",
    "data_set.head()\n",
    "x_train, x_test, y_train, y_test = Helper.split_data(data_set, 'GDP')\n",
    "\n",
    "fine_tune_model.fit(x_train, y_train)\n",
    "\n",
    "y_pred = fine_tune_model.predict(x_test)\n",
    "\n",
    "mse = mean_squared_error(y_test, y_pred)\n",
    "print(f\"MSE -> {mse}\")"
   ]
  }
 ],
 "metadata": {
  "kernelspec": {
   "display_name": "Python 3",
   "language": "python",
   "name": "python3"
  },
  "language_info": {
   "codemirror_mode": {
    "name": "ipython",
    "version": 3
   },
   "file_extension": ".py",
   "mimetype": "text/x-python",
   "name": "python",
   "nbconvert_exporter": "python",
   "pygments_lexer": "ipython3",
   "version": "3.12.6"
  }
 },
 "nbformat": 4,
 "nbformat_minor": 2
}
